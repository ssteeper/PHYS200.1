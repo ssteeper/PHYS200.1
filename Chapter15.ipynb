{
 "metadata": {
  "name": "Chapter15"
 }, 
 "nbformat": 2, 
 "worksheets": [
  {
   "cells": [
    {
     "cell_type": "code", 
     "collapsed": true, 
     "input": [
      "#Exercise 1", 
      "", 
      "class Point(object):", 
      "    \"\"\"represents a point in 2-D space\"\"\""
     ], 
     "language": "python", 
     "outputs": [], 
     "prompt_number": 1
    }, 
    {
     "cell_type": "code", 
     "collapsed": true, 
     "input": [
      "def distance(p1, p2):", 
      "    xdist = p2.x - p1.x", 
      "    ydist = p2.y - p1.y", 
      "    return math.sqrt(xdist**2 + ydist**2)"
     ], 
     "language": "python", 
     "outputs": [], 
     "prompt_number": 9
    }, 
    {
     "cell_type": "code", 
     "collapsed": false, 
     "input": [
      "p1.x = 3", 
      "p1.y = 4", 
      "p2.x = 1", 
      "p2.y = 2"
     ], 
     "language": "python", 
     "outputs": [], 
     "prompt_number": 5
    }, 
    {
     "cell_type": "code", 
     "collapsed": true, 
     "input": [
      "p1 = Point()", 
      "p2 = Point()"
     ], 
     "language": "python", 
     "outputs": [], 
     "prompt_number": 6
    }, 
    {
     "cell_type": "code", 
     "collapsed": false, 
     "input": [
      "distance(p1, p2)"
     ], 
     "language": "python", 
     "outputs": [
      {
       "ename": "AttributeError", 
       "evalue": "'Point' object has no attribute 'x'", 
       "output_type": "pyerr", 
       "traceback": [
        "<span class=\"ansired\">---------------------------------------------------------------------------</span>\n<span class=\"ansired\">AttributeError</span>                            Traceback (most recent call last)", 
        "<span class=\"ansigreen\">/home/ssteeper/PHYS200.1/&lt;ipython-input-10-8be9c1db7c59&gt;</span> in <span class=\"ansicyan\">&lt;module&gt;</span><span class=\"ansiblue\">()</span>\n<span class=\"ansigreen\">----&gt; 1</span><span class=\"ansiyellow\"> </span>distance<span class=\"ansiyellow\">(</span>p1<span class=\"ansiyellow\">,</span> p2<span class=\"ansiyellow\">)</span><span class=\"ansiyellow\"></span>\n", 
        "<span class=\"ansigreen\">/home/ssteeper/PHYS200.1/&lt;ipython-input-9-85b7b219b6c9&gt;</span> in <span class=\"ansicyan\">distance</span><span class=\"ansiblue\">(p1, p2)</span>\n<span class=\"ansigreen\">      1</span> <span class=\"ansigreen\">def</span> distance<span class=\"ansiyellow\">(</span>p1<span class=\"ansiyellow\">,</span> p2<span class=\"ansiyellow\">)</span><span class=\"ansiyellow\">:</span><span class=\"ansiyellow\"></span>\n<span class=\"ansigreen\">----&gt; 2</span><span class=\"ansiyellow\">     </span>xdist <span class=\"ansiyellow\">=</span> p2<span class=\"ansiyellow\">.</span>x <span class=\"ansiyellow\">-</span> p1<span class=\"ansiyellow\">.</span>x<span class=\"ansiyellow\"></span>\n<span class=\"ansigreen\">      3</span>     ydist <span class=\"ansiyellow\">=</span> p2<span class=\"ansiyellow\">.</span>y <span class=\"ansiyellow\">-</span> p1<span class=\"ansiyellow\">.</span>y<span class=\"ansiyellow\"></span>\n<span class=\"ansigreen\">      4</span>     <span class=\"ansigreen\">return</span> math<span class=\"ansiyellow\">.</span>sqrt<span class=\"ansiyellow\">(</span>xdist<span class=\"ansiyellow\">**</span><span class=\"ansicyan\">2</span> <span class=\"ansiyellow\">+</span> ydist<span class=\"ansiyellow\">**</span><span class=\"ansicyan\">2</span><span class=\"ansiyellow\">)</span><span class=\"ansiyellow\"></span>\n", 
        "<span class=\"ansired\">AttributeError</span>: &apos;Point&apos; object has no attribute &apos;x&apos;"
       ]
      }
     ], 
     "prompt_number": 10
    }, 
    {
     "cell_type": "code", 
     "collapsed": true, 
     "input": [
      "#Exercise 15.2 ", 
      "", 
      "def move_rectangle(box, dx, dy):", 
      "    box.corner.x += dx", 
      "    box.corner.y += dy", 
      "    return box"
     ], 
     "language": "python", 
     "outputs": [], 
     "prompt_number": 11
    }, 
    {
     "cell_type": "code", 
     "collapsed": true, 
     "input": [
      "#Exercise 15.3", 
      "", 
      "def move_rectangle_2(box, dx, dy):", 
      "    newbox.width = box.width", 
      "    newbox.height = box.height", 
      "    newbox.corner.x = box.corner.x + dx", 
      "    newbox.corner.y = box.corner.y + dy", 
      "    return newbox"
     ], 
     "language": "python", 
     "outputs": [], 
     "prompt_number": 12
    }, 
    {
     "cell_type": "code", 
     "collapsed": true, 
     "input": [], 
     "language": "python", 
     "outputs": [], 
     "prompt_number": "&nbsp;"
    }
   ]
  }
 ]
}