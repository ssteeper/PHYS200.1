{
 "metadata": {
  "name": "Chapter16"
 }, 
 "nbformat": 2, 
 "worksheets": [
  {
   "cells": [
    {
     "cell_type": "code", 
     "collapsed": true, 
     "input": [
      "class Time(object):", 
      "    \"\"\"Represents the time of day.", 
      "       ", 
      "    attributes: hour, minute, second", 
      "    \"\"\""
     ], 
     "language": "python", 
     "outputs": [], 
     "prompt_number": 1
    }, 
    {
     "cell_type": "code", 
     "collapsed": true, 
     "input": [
      "#Exercise 1", 
      "", 
      "def print_time(t):", 
      "    print '%.2d:%.2d:%.2d' % (t.hour,t.minute, t.second)", 
      "    "
     ], 
     "language": "python", 
     "outputs": [], 
     "prompt_number": 2
    }, 
    {
     "cell_type": "code", 
     "collapsed": false, 
     "input": [
      "t.hour = 1", 
      "t.minute = 30", 
      "t.second = 7"
     ], 
     "language": "python", 
     "outputs": [], 
     "prompt_number": 5
    }, 
    {
     "cell_type": "code", 
     "collapsed": true, 
     "input": [
      "t = Time()"
     ], 
     "language": "python", 
     "outputs": [], 
     "prompt_number": 4
    }, 
    {
     "cell_type": "code", 
     "collapsed": false, 
     "input": [
      "print_time(t)"
     ], 
     "language": "python", 
     "outputs": [
      {
       "output_type": "stream", 
       "stream": "stdout", 
       "text": [
        "01:30:07"
       ]
      }
     ], 
     "prompt_number": 6
    }, 
    {
     "cell_type": "code", 
     "collapsed": true, 
     "input": [
      "def is_after(t1, t2):", 
      "    seconds1 = t1.second + 60*t1.minute + 3600*t1.hour", 
      "    seconds2 = t2.second + 60*t2.minute + 3600*t2.hour", 
      "    if seconds1 > seconds2:", 
      "        return 1", 
      "    else: return 0", 
      "    ", 
      "", 
      "    "
     ], 
     "language": "python", 
     "outputs": [], 
     "prompt_number": 11
    }, 
    {
     "cell_type": "code", 
     "collapsed": false, 
     "input": [
      "t1 = Time()", 
      "t2 = Time()", 
      "", 
      "t1.hour = 1", 
      "t1.minute = 30", 
      "t1.second = 0", 
      "t2.hour = 1", 
      "t2.minute = 1", 
      "t2.second = 1"
     ], 
     "language": "python", 
     "outputs": [], 
     "prompt_number": 12
    }, 
    {
     "cell_type": "code", 
     "collapsed": true, 
     "input": [], 
     "language": "python", 
     "outputs": [], 
     "prompt_number": 12
    }, 
    {
     "cell_type": "code", 
     "collapsed": false, 
     "input": [
      "is_after(t1,t2)"
     ], 
     "language": "python", 
     "outputs": [
      {
       "output_type": "pyout", 
       "prompt_number": 15, 
       "text": [
        "True"
       ]
      }
     ], 
     "prompt_number": 15
    }, 
    {
     "cell_type": "code", 
     "collapsed": true, 
     "input": [
      "#Exercise 2", 
      "", 
      "def is_after(t1, t2):", 
      "    seconds1 = t1.second + 60*t1.minute + 3600*t1.hour", 
      "    seconds2 = t2.second + 60*t2.minute + 3600*t2.hour", 
      "    return seconds1 > seconds2", 
      "    "
     ], 
     "language": "python", 
     "outputs": [], 
     "prompt_number": 14
    }, 
    {
     "cell_type": "code", 
     "collapsed": true, 
     "input": [], 
     "language": "python", 
     "outputs": [], 
     "prompt_number": 14
    }, 
    {
     "cell_type": "code", 
     "collapsed": false, 
     "input": [
      "#Exercise 3", 
      "def increment(time, seconds):", 
      "   tot = time.second + 60*time.minute + 3600*time.hour", 
      "   sum = tot + seconds", 
      "   time.hour = sum / 3600", 
      "   sum = sum % 3600", 
      "   time.minute = sum / 60", 
      "   sum = sum % 60", 
      "   time.second = sum "
     ], 
     "language": "python", 
     "outputs": [], 
     "prompt_number": 17
    }, 
    {
     "cell_type": "code", 
     "collapsed": false, 
     "input": [
      "#Exercise 4", 
      "", 
      "", 
      "def increment_pure(time, seconds):", 
      "   tot = time.second + 60*time.minute + 3600*time.hour", 
      "   sum = tot + seconds", 
      "   final = Time()", 
      "   final.hour = sum / 3600", 
      "   sum = sum % 3600", 
      "   final.minute = sum / 60", 
      "   sum = sum % 60", 
      "   final.second = sum", 
      "   return final"
     ], 
     "language": "python", 
     "outputs": [], 
     "prompt_number": 19
    }, 
    {
     "cell_type": "code", 
     "collapsed": true, 
     "input": [
      "#Exercise 5\",", 
      "      def time_to_int(time):", 
      "      return time.second + 60*time.minute + 3600*time.hour", 
      "      ", 
      "      def int_to_time(seconds):", 
      "      time = Time()", 
      "      minutes, time.second = divmod(seconds, 60)", 
      "      time.hour, time.minute = divmod(minutes, 60)", 
      "      return time", 
      " ", 
      "      def increment(time, seconds):", 
      "      s = int_to_time(time_to_int(time) + seconds)", 
      "      time.hour, time.minute, time.second = s.hour, s.minute, s.second"
     ], 
     "language": "python", 
     "outputs": [], 
     "prompt_number": "&nbsp;"
    }
   ]
  }
 ]
}