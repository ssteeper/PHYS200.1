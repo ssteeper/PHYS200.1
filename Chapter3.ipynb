{
 "metadata": {
  "name": "Chapter3"
 }, 
 "nbformat": 2, 
 "worksheets": [
  {
   "cells": [
    {
     "cell_type": "code", 
     "collapsed": true, 
     "input": [
      "import math"
     ], 
     "language": "python", 
     "outputs": [], 
     "prompt_number": 1
    }, 
    {
     "cell_type": "code", 
     "collapsed": false, 
     "input": [
      "print math"
     ], 
     "language": "python", 
     "outputs": [
      {
       "output_type": "stream", 
       "stream": "stdout", 
       "text": [
        "&lt;module &apos;math&apos; from &apos;/home/ssteeper/Downloads/epd-7.2-2-rh5-x86/lib/python2.7/lib-dynload/math.so&apos;&gt;"
       ]
      }
     ], 
     "prompt_number": 2
    }, 
    {
     "cell_type": "code", 
     "collapsed": true, 
     "input": [
      "radians = 0.7", 
      "height = math.sin(radians)"
     ], 
     "language": "python", 
     "outputs": [], 
     "prompt_number": 3
    }, 
    {
     "cell_type": "code", 
     "collapsed": false, 
     "input": [
      "print height"
     ], 
     "language": "python", 
     "outputs": [
      {
       "output_type": "stream", 
       "stream": "stdout", 
       "text": [
        "0.644217687238"
       ]
      }
     ], 
     "prompt_number": 4
    }, 
    {
     "cell_type": "code", 
     "collapsed": true, 
     "input": [
      "def print_lyrics():", 
      "    print \"I'm a lumberjack, and I'm okay.\"", 
      "    print \"I sleep all night and I work all day.\"", 
      "    ", 
      "    "
     ], 
     "language": "python", 
     "outputs": [], 
     "prompt_number": 5
    }, 
    {
     "cell_type": "code", 
     "collapsed": false, 
     "input": [
      "print_lyrics()"
     ], 
     "language": "python", 
     "outputs": [
      {
       "output_type": "stream", 
       "stream": "stdout", 
       "text": [
        "I&apos;m a lumberjack, and I&apos;m okay.", 
        "I sleep all night and I work all day."
       ]
      }
     ], 
     "prompt_number": 6
    }, 
    {
     "cell_type": "code", 
     "collapsed": true, 
     "input": [
      "def repeat_lyrics():", 
      "    print_lyrics()", 
      "    print_lyrics()", 
      "    "
     ], 
     "language": "python", 
     "outputs": [], 
     "prompt_number": 7
    }, 
    {
     "cell_type": "code", 
     "collapsed": false, 
     "input": [
      "repeat_lyrics()"
     ], 
     "language": "python", 
     "outputs": [
      {
       "output_type": "stream", 
       "stream": "stdout", 
       "text": [
        "I&apos;m a lumberjack, and I&apos;m okay.", 
        "I sleep all night and I work all day.", 
        "I&apos;m a lumberjack, and I&apos;m okay.", 
        "I sleep all night and I work all day."
       ]
      }
     ], 
     "prompt_number": 8
    }, 
    {
     "cell_type": "code", 
     "collapsed": false, 
     "input": [
      "repeat_lyrics () ", 
      "", 
      "def print_lyrics():", 
      "    print \"I'm a lumberjack, and I'm okay.\"", 
      "    print \"I sleep all night and I work all day.\"", 
      "", 
      "def repeat_lyrics():", 
      "    print_lyrics()", 
      "    print_lyrics()"
     ], 
     "language": "python", 
     "outputs": [
      {
       "output_type": "stream", 
       "stream": "stdout", 
       "text": [
        "I&apos;m a lumberjack, and I&apos;m okay.", 
        "I sleep all night and I work all day.", 
        "I&apos;m a lumberjack, and I&apos;m okay.", 
        "I sleep all night and I work all day."
       ]
      }
     ], 
     "prompt_number": 9
    }, 
    {
     "cell_type": "code", 
     "collapsed": false, 
     "input": [
      "def repeat_lyrics():", 
      "    print_lyrics()", 
      "    print_lyrics()", 
      "", 
      "def print_lyrics():", 
      "    print \"I'm a lumberjack, and I'm okay.\"", 
      "    print \"I sleep all night and I work all day.\"", 
      "", 
      "repeat_lyrics()"
     ], 
     "language": "python", 
     "outputs": [
      {
       "output_type": "stream", 
       "stream": "stdout", 
       "text": [
        "I&apos;m a lumberjack, and I&apos;m okay.", 
        "I sleep all night and I work all day.", 
        "I&apos;m a lumberjack, and I&apos;m okay.", 
        "I sleep all night and I work all day."
       ]
      }
     ], 
     "prompt_number": 10
    }, 
    {
     "cell_type": "code", 
     "collapsed": true, 
     "input": [
      "def right_justify(s):", 
      "    print (' '*(70-len(s))+s)", 
      "     "
     ], 
     "language": "python", 
     "outputs": [], 
     "prompt_number": 14
    }, 
    {
     "cell_type": "code", 
     "collapsed": false, 
     "input": [
      "right_justify(allen)"
     ], 
     "language": "python", 
     "outputs": [
      {
       "ename": "NameError", 
       "evalue": "name 'allen' is not defined", 
       "output_type": "pyerr", 
       "traceback": [
        "<span class=\"ansired\">---------------------------------------------------------------------------</span>\n<span class=\"ansired\">NameError</span>                                 Traceback (most recent call last)", 
        "<span class=\"ansigreen\">/home/ssteeper/PHYS200.1/&lt;ipython-input-15-c6ec898275e3&gt;</span> in <span class=\"ansicyan\">&lt;module&gt;</span><span class=\"ansiblue\">()</span>\n<span class=\"ansigreen\">----&gt; 1</span><span class=\"ansiyellow\"> </span>right_justify<span class=\"ansiyellow\">(</span>allen<span class=\"ansiyellow\">)</span><span class=\"ansiyellow\"></span>\n", 
        "<span class=\"ansired\">NameError</span>: name &apos;allen&apos; is not defined"
       ]
      }
     ], 
     "prompt_number": 15
    }, 
    {
     "cell_type": "code", 
     "collapsed": false, 
     "input": [
      "right_justify('allen')"
     ], 
     "language": "python", 
     "outputs": [
      {
       "output_type": "stream", 
       "stream": "stdout", 
       "text": [
        "                                                                 allen"
       ]
      }
     ], 
     "prompt_number": 16
    }, 
    {
     "cell_type": "code", 
     "collapsed": true, 
     "input": [
      "def do_twice(f):", 
      "    f()", 
      "    f()", 
      "    "
     ], 
     "language": "python", 
     "outputs": [], 
     "prompt_number": 17
    }, 
    {
     "cell_type": "code", 
     "collapsed": true, 
     "input": [
      "def print_spam():", 
      "    print 'spam'"
     ], 
     "language": "python", 
     "outputs": [], 
     "prompt_number": 18
    }, 
    {
     "cell_type": "code", 
     "collapsed": false, 
     "input": [
      "do_twice(print_spam)"
     ], 
     "language": "python", 
     "outputs": [
      {
       "output_type": "stream", 
       "stream": "stdout", 
       "text": [
        "spam", 
        "spam"
       ]
      }
     ], 
     "prompt_number": 19
    }, 
    {
     "cell_type": "code", 
     "collapsed": true, 
     "input": [
      "def do_twice(f,x):", 
      "    f(x)", 
      "    f(x)"
     ], 
     "language": "python", 
     "outputs": [], 
     "prompt_number": 20
    }, 
    {
     "cell_type": "code", 
     "collapsed": false, 
     "input": [
      "print_twice(s):", 
      "    print s", 
      "    print s"
     ], 
     "language": "python", 
     "outputs": [
      {
       "ename": "SyntaxError", 
       "evalue": "invalid syntax (<ipython-input-21-0932015d6a0b>, line 1)", 
       "output_type": "pyerr", 
       "traceback": [
        "<span class=\"ansicyan\">  File </span><span class=\"ansigreen\">&quot;&lt;ipython-input-21-0932015d6a0b&gt;&quot;</span><span class=\"ansicyan\">, line </span><span class=\"ansigreen\">1</span>\n<span class=\"ansiyellow\">    print_twice(s):</span>\n<span class=\"ansigrey\">                  ^</span>\n<span class=\"ansired\">SyntaxError</span><span class=\"ansired\">:</span> invalid syntax\n"
       ]
      }
     ], 
     "prompt_number": 21
    }, 
    {
     "cell_type": "code", 
     "collapsed": true, 
     "input": [
      "def print_twice(s):", 
      "    print s", 
      "    print s"
     ], 
     "language": "python", 
     "outputs": [], 
     "prompt_number": 22
    }, 
    {
     "cell_type": "code", 
     "collapsed": false, 
     "input": [
      "do_twice(print_twice(spam), )"
     ], 
     "language": "python", 
     "outputs": [
      {
       "ename": "NameError", 
       "evalue": "name 'spam' is not defined", 
       "output_type": "pyerr", 
       "traceback": [
        "<span class=\"ansired\">---------------------------------------------------------------------------</span>\n<span class=\"ansired\">NameError</span>                                 Traceback (most recent call last)", 
        "<span class=\"ansigreen\">/home/ssteeper/PHYS200.1/&lt;ipython-input-23-3dbe58e873dd&gt;</span> in <span class=\"ansicyan\">&lt;module&gt;</span><span class=\"ansiblue\">()</span>\n<span class=\"ansigreen\">----&gt; 1</span><span class=\"ansiyellow\"> </span>do_twice<span class=\"ansiyellow\">(</span>print_twice<span class=\"ansiyellow\">(</span>spam<span class=\"ansiyellow\">)</span><span class=\"ansiyellow\">)</span><span class=\"ansiyellow\"></span>\n", 
        "<span class=\"ansired\">NameError</span>: name &apos;spam&apos; is not defined"
       ]
      }
     ], 
     "prompt_number": 23
    }, 
    {
     "cell_type": "code", 
     "collapsed": false, 
     "input": [
      "do_twice(print_twice('spam'),2)"
     ], 
     "language": "python", 
     "outputs": [
      {
       "ename": "TypeError", 
       "evalue": "'NoneType' object is not callable", 
       "output_type": "pyerr", 
       "traceback": [
        "<span class=\"ansired\">---------------------------------------------------------------------------</span>\n<span class=\"ansired\">TypeError</span>                                 Traceback (most recent call last)", 
        "<span class=\"ansigreen\">/home/ssteeper/PHYS200.1/&lt;ipython-input-24-5957231bde26&gt;</span> in <span class=\"ansicyan\">&lt;module&gt;</span><span class=\"ansiblue\">()</span>\n<span class=\"ansigreen\">----&gt; 1</span><span class=\"ansiyellow\"> </span>do_twice<span class=\"ansiyellow\">(</span>print_twice<span class=\"ansiyellow\">(</span><span class=\"ansiblue\">&apos;spam&apos;</span><span class=\"ansiyellow\">)</span><span class=\"ansiyellow\">,</span><span class=\"ansicyan\">2</span><span class=\"ansiyellow\">)</span><span class=\"ansiyellow\"></span>\n", 
        "<span class=\"ansigreen\">/home/ssteeper/PHYS200.1/&lt;ipython-input-20-4d9044687a37&gt;</span> in <span class=\"ansicyan\">do_twice</span><span class=\"ansiblue\">(f, x)</span>\n<span class=\"ansigreen\">      1</span> <span class=\"ansigreen\">def</span> do_twice<span class=\"ansiyellow\">(</span>f<span class=\"ansiyellow\">,</span>x<span class=\"ansiyellow\">)</span><span class=\"ansiyellow\">:</span><span class=\"ansiyellow\"></span>\n<span class=\"ansigreen\">----&gt; 2</span><span class=\"ansiyellow\">     </span>f<span class=\"ansiyellow\">(</span>x<span class=\"ansiyellow\">)</span><span class=\"ansiyellow\"></span>\n<span class=\"ansigreen\">      3</span>     f<span class=\"ansiyellow\">(</span>x<span class=\"ansiyellow\">)</span><span class=\"ansiyellow\"></span>\n", 
        "<span class=\"ansired\">TypeError</span>: &apos;NoneType&apos; object is not callable"
       ]
      }, 
      {
       "output_type": "stream", 
       "stream": "stdout", 
       "text": [
        "spam", 
        "spam"
       ]
      }
     ], 
     "prompt_number": 24
    }, 
    {
     "cell_type": "code", 
     "collapsed": false, 
     "input": [
      "print_twice('spam')"
     ], 
     "language": "python", 
     "outputs": [
      {
       "output_type": "stream", 
       "stream": "stdout", 
       "text": [
        "spam", 
        "spam"
       ]
      }
     ], 
     "prompt_number": 25
    }, 
    {
     "cell_type": "code", 
     "collapsed": false, 
     "input": [
      "do_twice(print_twice('spam'))"
     ], 
     "language": "python", 
     "outputs": [
      {
       "ename": "TypeError", 
       "evalue": "do_twice() takes exactly 2 arguments (1 given)", 
       "output_type": "pyerr", 
       "traceback": [
        "<span class=\"ansired\">---------------------------------------------------------------------------</span>\n<span class=\"ansired\">TypeError</span>                                 Traceback (most recent call last)", 
        "<span class=\"ansigreen\">/home/ssteeper/PHYS200.1/&lt;ipython-input-26-8fb219db210c&gt;</span> in <span class=\"ansicyan\">&lt;module&gt;</span><span class=\"ansiblue\">()</span>\n<span class=\"ansigreen\">----&gt; 1</span><span class=\"ansiyellow\"> </span>do_twice<span class=\"ansiyellow\">(</span>print_twice<span class=\"ansiyellow\">(</span><span class=\"ansiblue\">&apos;spam&apos;</span><span class=\"ansiyellow\">)</span><span class=\"ansiyellow\">)</span><span class=\"ansiyellow\"></span>\n", 
        "<span class=\"ansired\">TypeError</span>: do_twice() takes exactly 2 arguments (1 given)"
       ]
      }, 
      {
       "output_type": "stream", 
       "stream": "stdout", 
       "text": [
        "spam", 
        "spam"
       ]
      }
     ], 
     "prompt_number": 26
    }, 
    {
     "cell_type": "code", 
     "collapsed": false, 
     "input": [
      "do_twice(print_twice('spam'), 'spam')"
     ], 
     "language": "python", 
     "outputs": [
      {
       "ename": "TypeError", 
       "evalue": "'NoneType' object is not callable", 
       "output_type": "pyerr", 
       "traceback": [
        "<span class=\"ansired\">---------------------------------------------------------------------------</span>\n<span class=\"ansired\">TypeError</span>                                 Traceback (most recent call last)", 
        "<span class=\"ansigreen\">/home/ssteeper/PHYS200.1/&lt;ipython-input-27-7daceacccec0&gt;</span> in <span class=\"ansicyan\">&lt;module&gt;</span><span class=\"ansiblue\">()</span>\n<span class=\"ansigreen\">----&gt; 1</span><span class=\"ansiyellow\"> </span>do_twice<span class=\"ansiyellow\">(</span>print_twice<span class=\"ansiyellow\">(</span><span class=\"ansiblue\">&apos;spam&apos;</span><span class=\"ansiyellow\">)</span><span class=\"ansiyellow\">,</span> <span class=\"ansiblue\">&apos;spam&apos;</span><span class=\"ansiyellow\">)</span><span class=\"ansiyellow\"></span>\n", 
        "<span class=\"ansigreen\">/home/ssteeper/PHYS200.1/&lt;ipython-input-20-4d9044687a37&gt;</span> in <span class=\"ansicyan\">do_twice</span><span class=\"ansiblue\">(f, x)</span>\n<span class=\"ansigreen\">      1</span> <span class=\"ansigreen\">def</span> do_twice<span class=\"ansiyellow\">(</span>f<span class=\"ansiyellow\">,</span>x<span class=\"ansiyellow\">)</span><span class=\"ansiyellow\">:</span><span class=\"ansiyellow\"></span>\n<span class=\"ansigreen\">----&gt; 2</span><span class=\"ansiyellow\">     </span>f<span class=\"ansiyellow\">(</span>x<span class=\"ansiyellow\">)</span><span class=\"ansiyellow\"></span>\n<span class=\"ansigreen\">      3</span>     f<span class=\"ansiyellow\">(</span>x<span class=\"ansiyellow\">)</span><span class=\"ansiyellow\"></span>\n", 
        "<span class=\"ansired\">TypeError</span>: &apos;NoneType&apos; object is not callable"
       ]
      }, 
      {
       "output_type": "stream", 
       "stream": "stdout", 
       "text": [
        "spam", 
        "spam"
       ]
      }
     ], 
     "prompt_number": 27
    }, 
    {
     "cell_type": "code", 
     "collapsed": false, 
     "input": [
      "do_twice(print_twice, 'spam')"
     ], 
     "language": "python", 
     "outputs": [
      {
       "output_type": "stream", 
       "stream": "stdout", 
       "text": [
        "spam", 
        "spam", 
        "spam", 
        "spam"
       ]
      }
     ], 
     "prompt_number": 28
    }, 
    {
     "cell_type": "code", 
     "collapsed": true, 
     "input": [
      "def do_four(f, arg):", 
      "    do_twice(f, arg)", 
      "    do_twice(f, arg)"
     ], 
     "language": "python", 
     "outputs": [], 
     "prompt_number": 29
    }, 
    {
     "cell_type": "code", 
     "collapsed": false, 
     "input": [
      "do_four(print_twice, 'spam')"
     ], 
     "language": "python", 
     "outputs": [
      {
       "output_type": "stream", 
       "stream": "stdout", 
       "text": [
        "spam", 
        "spam", 
        "spam", 
        "spam", 
        "spam", 
        "spam", 
        "spam", 
        "spam"
       ]
      }
     ], 
     "prompt_number": 30
    }, 
    {
     "cell_type": "code", 
     "collapsed": false, 
     "input": [
      "def print_bar():", 
      "    print +----", 
      "    "
     ], 
     "language": "python", 
     "outputs": [
      {
       "ename": "SyntaxError", 
       "evalue": "invalid syntax (<ipython-input-31-3365759cd5fa>, line 2)", 
       "output_type": "pyerr", 
       "traceback": [
        "<span class=\"ansicyan\">  File </span><span class=\"ansigreen\">&quot;&lt;ipython-input-31-3365759cd5fa&gt;&quot;</span><span class=\"ansicyan\">, line </span><span class=\"ansigreen\">2</span>\n<span class=\"ansiyellow\">    print +----</span>\n<span class=\"ansigrey\">               ^</span>\n<span class=\"ansired\">SyntaxError</span><span class=\"ansired\">:</span> invalid syntax\n"
       ]
      }
     ], 
     "prompt_number": 31
    }, 
    {
     "cell_type": "code", 
     "collapsed": true, 
     "input": [
      "def print_bar():", 
      "    print '+----',", 
      "    "
     ], 
     "language": "python", 
     "outputs": [], 
     "prompt_number": 43
    }, 
    {
     "cell_type": "code", 
     "collapsed": true, 
     "input": [
      "def print_row():", 
      "    print '|    ',"
     ], 
     "language": "python", 
     "outputs": [], 
     "prompt_number": 44
    }, 
    {
     "cell_type": "code", 
     "collapsed": false, 
     "input": [
      "print_bar(), print_bar()"
     ], 
     "language": "python", 
     "outputs": [
      {
       "output_type": "stream", 
       "stream": "stdout", 
       "text": [
        "+---- +----"
       ]
      }, 
      {
       "output_type": "pyout", 
       "prompt_number": 45, 
       "text": [
        "(None, None)"
       ]
      }, 
      {
       "output_type": "stream", 
       "stream": "stdout", 
       "text": [
        ""
       ]
      }
     ], 
     "prompt_number": 45
    }, 
    {
     "cell_type": "code", 
     "collapsed": true, 
     "input": [
      "def print_bar():", 
      "    print '+----',"
     ], 
     "language": "python", 
     "outputs": [], 
     "prompt_number": 46
    }, 
    {
     "cell_type": "code", 
     "collapsed": false, 
     "input": [
      "def print_grid():", 
      "    print_bar() ", 
      "    print_bar()", 
      "    print '+'", 
      "    print_row()", 
      "    print_row()", 
      "    print '/'"
     ], 
     "language": "python", 
     "outputs": [], 
     "prompt_number": 47
    }, 
    {
     "cell_type": "code", 
     "collapsed": false, 
     "input": [
      "def ("
     ], 
     "language": "python", 
     "outputs": [
      {
       "ename": "SyntaxError", 
       "evalue": "invalid syntax (<ipython-input-48-3d652d0eaa92>, line 1)", 
       "output_type": "pyerr", 
       "traceback": [
        "<span class=\"ansicyan\">  File </span><span class=\"ansigreen\">&quot;&lt;ipython-input-48-3d652d0eaa92&gt;&quot;</span><span class=\"ansicyan\">, line </span><span class=\"ansigreen\">1</span>\n<span class=\"ansiyellow\">    def (</span>\n<span class=\"ansigrey\">        ^</span>\n<span class=\"ansired\">SyntaxError</span><span class=\"ansired\">:</span> invalid syntax\n"
       ]
      }
     ], 
     "prompt_number": 48
    }, 
    {
     "cell_type": "code", 
     "collapsed": true, 
     "input": [
      "def print_beam():", 
      "    do_twice(print_bar)", 
      "    print '+'"
     ], 
     "language": "python", 
     "outputs": [], 
     "prompt_number": 49
    }, 
    {
     "cell_type": "code", 
     "collapsed": true, 
     "input": [
      "def print_post():", 
      "    do_twice(print_row)", 
      "    print '|'"
     ], 
     "language": "python", 
     "outputs": [], 
     "prompt_number": 50
    }, 
    {
     "cell_type": "code", 
     "collapsed": true, 
     "input": [
      "def print_line():", 
      "    print_beam()", 
      "    do_four(print_post)"
     ], 
     "language": "python", 
     "outputs": [], 
     "prompt_number": 51
    }, 
    {
     "cell_type": "code", 
     "collapsed": true, 
     "input": [
      "def print_grid():", 
      "    do_twice(print_line)", 
      "    print_beam()"
     ], 
     "language": "python", 
     "outputs": [], 
     "prompt_number": 52
    }, 
    {
     "cell_type": "code", 
     "collapsed": false, 
     "input": [
      "print_grid()"
     ], 
     "language": "python", 
     "outputs": [
      {
       "ename": "TypeError", 
       "evalue": "do_twice() takes exactly 2 arguments (1 given)", 
       "output_type": "pyerr", 
       "traceback": [
        "<span class=\"ansired\">---------------------------------------------------------------------------</span>\n<span class=\"ansired\">TypeError</span>                                 Traceback (most recent call last)", 
        "<span class=\"ansigreen\">/home/ssteeper/PHYS200.1/&lt;ipython-input-53-8e7aa21effc6&gt;</span> in <span class=\"ansicyan\">&lt;module&gt;</span><span class=\"ansiblue\">()</span>\n<span class=\"ansigreen\">----&gt; 1</span><span class=\"ansiyellow\"> </span>print_grid<span class=\"ansiyellow\">(</span><span class=\"ansiyellow\">)</span><span class=\"ansiyellow\"></span>\n", 
        "<span class=\"ansigreen\">/home/ssteeper/PHYS200.1/&lt;ipython-input-52-0d44051a635a&gt;</span> in <span class=\"ansicyan\">print_grid</span><span class=\"ansiblue\">()</span>\n<span class=\"ansigreen\">      1</span> <span class=\"ansigreen\">def</span> print_grid<span class=\"ansiyellow\">(</span><span class=\"ansiyellow\">)</span><span class=\"ansiyellow\">:</span><span class=\"ansiyellow\"></span>\n<span class=\"ansigreen\">----&gt; 2</span><span class=\"ansiyellow\">     </span>do_twice<span class=\"ansiyellow\">(</span>print_line<span class=\"ansiyellow\">)</span><span class=\"ansiyellow\"></span>\n<span class=\"ansigreen\">      3</span>     print_beam<span class=\"ansiyellow\">(</span><span class=\"ansiyellow\">)</span><span class=\"ansiyellow\"></span>\n", 
        "<span class=\"ansired\">TypeError</span>: do_twice() takes exactly 2 arguments (1 given)"
       ]
      }
     ], 
     "prompt_number": 53
    }, 
    {
     "cell_type": "code", 
     "collapsed": true, 
     "input": [
      "def do_twice(f):", 
      "    f()", 
      "    f()"
     ], 
     "language": "python", 
     "outputs": [], 
     "prompt_number": 54
    }, 
    {
     "cell_type": "code", 
     "collapsed": false, 
     "input": [
      "print_grid()"
     ], 
     "language": "python", 
     "outputs": [
      {
       "ename": "TypeError", 
       "evalue": "do_four() takes exactly 2 arguments (1 given)", 
       "output_type": "pyerr", 
       "traceback": [
        "<span class=\"ansired\">---------------------------------------------------------------------------</span>\n<span class=\"ansired\">TypeError</span>                                 Traceback (most recent call last)", 
        "<span class=\"ansigreen\">/home/ssteeper/PHYS200.1/&lt;ipython-input-55-8e7aa21effc6&gt;</span> in <span class=\"ansicyan\">&lt;module&gt;</span><span class=\"ansiblue\">()</span>\n<span class=\"ansigreen\">----&gt; 1</span><span class=\"ansiyellow\"> </span>print_grid<span class=\"ansiyellow\">(</span><span class=\"ansiyellow\">)</span><span class=\"ansiyellow\"></span>\n", 
        "<span class=\"ansigreen\">/home/ssteeper/PHYS200.1/&lt;ipython-input-52-0d44051a635a&gt;</span> in <span class=\"ansicyan\">print_grid</span><span class=\"ansiblue\">()</span>\n<span class=\"ansigreen\">      1</span> <span class=\"ansigreen\">def</span> print_grid<span class=\"ansiyellow\">(</span><span class=\"ansiyellow\">)</span><span class=\"ansiyellow\">:</span><span class=\"ansiyellow\"></span>\n<span class=\"ansigreen\">----&gt; 2</span><span class=\"ansiyellow\">     </span>do_twice<span class=\"ansiyellow\">(</span>print_line<span class=\"ansiyellow\">)</span><span class=\"ansiyellow\"></span>\n<span class=\"ansigreen\">      3</span>     print_beam<span class=\"ansiyellow\">(</span><span class=\"ansiyellow\">)</span><span class=\"ansiyellow\"></span>\n", 
        "<span class=\"ansigreen\">/home/ssteeper/PHYS200.1/&lt;ipython-input-54-d0a623ebe605&gt;</span> in <span class=\"ansicyan\">do_twice</span><span class=\"ansiblue\">(f)</span>\n<span class=\"ansigreen\">      1</span> <span class=\"ansigreen\">def</span> do_twice<span class=\"ansiyellow\">(</span>f<span class=\"ansiyellow\">)</span><span class=\"ansiyellow\">:</span><span class=\"ansiyellow\"></span>\n<span class=\"ansigreen\">----&gt; 2</span><span class=\"ansiyellow\">     </span>f<span class=\"ansiyellow\">(</span><span class=\"ansiyellow\">)</span><span class=\"ansiyellow\"></span>\n<span class=\"ansigreen\">      3</span>     f<span class=\"ansiyellow\">(</span><span class=\"ansiyellow\">)</span><span class=\"ansiyellow\"></span>\n", 
        "<span class=\"ansigreen\">/home/ssteeper/PHYS200.1/&lt;ipython-input-51-89f5339859c2&gt;</span> in <span class=\"ansicyan\">print_line</span><span class=\"ansiblue\">()</span>\n<span class=\"ansigreen\">      1</span> <span class=\"ansigreen\">def</span> print_line<span class=\"ansiyellow\">(</span><span class=\"ansiyellow\">)</span><span class=\"ansiyellow\">:</span><span class=\"ansiyellow\"></span>\n<span class=\"ansigreen\">      2</span>     print_beam<span class=\"ansiyellow\">(</span><span class=\"ansiyellow\">)</span><span class=\"ansiyellow\"></span>\n<span class=\"ansigreen\">----&gt; 3</span><span class=\"ansiyellow\">     </span>do_four<span class=\"ansiyellow\">(</span>print_post<span class=\"ansiyellow\">)</span><span class=\"ansiyellow\"></span>\n", 
        "<span class=\"ansired\">TypeError</span>: do_four() takes exactly 2 arguments (1 given)"
       ]
      }, 
      {
       "output_type": "stream", 
       "stream": "stdout", 
       "text": [
        "+---- +---- +"
       ]
      }
     ], 
     "prompt_number": 55
    }, 
    {
     "cell_type": "code", 
     "collapsed": true, 
     "input": [
      "def do_four(f):", 
      "    do_twice(f)", 
      "    do_twice(f)"
     ], 
     "language": "python", 
     "outputs": [], 
     "prompt_number": 56
    }, 
    {
     "cell_type": "code", 
     "collapsed": false, 
     "input": [
      "print_grid()"
     ], 
     "language": "python", 
     "outputs": [
      {
       "output_type": "stream", 
       "stream": "stdout", 
       "text": [
        "+---- +---- +", 
        "/     /     |", 
        "/     /     |", 
        "/     /     |", 
        "/     /     |", 
        "+---- +---- +", 
        "/     /     |", 
        "/     /     |", 
        "/     /     |", 
        "/     /     |", 
        "+---- +---- +"
       ]
      }
     ], 
     "prompt_number": 57
    }, 
    {
     "cell_type": "code", 
     "collapsed": true, 
     "input": [
      "def print_row():", 
      "    print '|    ',"
     ], 
     "language": "python", 
     "outputs": [], 
     "prompt_number": 58
    }, 
    {
     "cell_type": "code", 
     "collapsed": false, 
     "input": [
      "print_grid()"
     ], 
     "language": "python", 
     "outputs": [
      {
       "output_type": "stream", 
       "stream": "stdout", 
       "text": [
        "+---- +---- +", 
        "|     |     |", 
        "|     |     |", 
        "|     |     |", 
        "|     |     |", 
        "+---- +---- +", 
        "|     |     |", 
        "|     |     |", 
        "|     |     |", 
        "|     |     |", 
        "+---- +---- +"
       ]
      }
     ], 
     "prompt_number": 59
    }, 
    {
     "cell_type": "code", 
     "collapsed": true, 
     "input": [
      "def print_row():", 
      "    print '| ',"
     ], 
     "language": "python", 
     "outputs": [], 
     "prompt_number": 63
    }, 
    {
     "cell_type": "code", 
     "collapsed": true, 
     "input": [
      "def print_bar():", 
      "    print '+-',"
     ], 
     "language": "python", 
     "outputs": [], 
     "prompt_number": 64
    }, 
    {
     "cell_type": "code", 
     "collapsed": false, 
     "input": [
      "print_grid()"
     ], 
     "language": "python", 
     "outputs": [
      {
       "output_type": "stream", 
       "stream": "stdout", 
       "text": [
        "+- +- +", 
        "|  |  |", 
        "|  |  |", 
        "|  |  |", 
        "|  |  |", 
        "+- +- +", 
        "|  |  |", 
        "|  |  |", 
        "|  |  |", 
        "|  |  |", 
        "+- +- +"
       ]
      }
     ], 
     "prompt_number": 65
    }, 
    {
     "cell_type": "code", 
     "collapsed": true, 
     "input": [], 
     "language": "python", 
     "outputs": [], 
     "prompt_number": "&nbsp;"
    }
   ]
  }
 ]
}