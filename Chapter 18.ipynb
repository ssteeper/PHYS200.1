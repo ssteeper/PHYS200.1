{
 "metadata": {
  "name": "Chapter 18"
 }, 
 "nbformat": 2, 
 "worksheets": [
  {
   "cells": [
    {
     "cell_type": "code", 
     "collapsed": true, 
     "input": [
      "#Exercise 1", 
      "", 
      "class Time(object):", 
      "    def __init__(self, h=0, m=0, s=0):", 
      "        self.hour = h", 
      "        self.minute = m", 
      "        self.second = s", 
      "    def __str__(self):", 
      "        return '%.2d:%.2d:%.2d' % self.hour, self.minute, self.second", 
      "    def __cmp__(self, other):", 
      "        return cmp((self.hour, self.minute, self.second), (other.hour, other.minute, other.second))", 
      "    def integer(self):", 
      "        return self.hour*3600 + self.minute*60 + self.second "
     ], 
     "language": "python", 
     "outputs": [], 
     "prompt_number": 1
    }, 
    {
     "cell_type": "code", 
     "collapsed": true, 
     "input": [
      "t1 = Time(1,0,0)", 
      "t2 = Time(0,0,0)"
     ], 
     "language": "python", 
     "outputs": [], 
     "prompt_number": 2
    }, 
    {
     "cell_type": "code", 
     "collapsed": false, 
     "input": [
      "t1 > t2"
     ], 
     "language": "python", 
     "outputs": [
      {
       "output_type": "pyout", 
       "prompt_number": 3, 
       "text": [
        "True"
       ]
      }
     ], 
     "prompt_number": 3
    }, 
    {
     "cell_type": "code", 
     "collapsed": false, 
     "input": [
      "t1 < t2"
     ], 
     "language": "python", 
     "outputs": [
      {
       "output_type": "pyout", 
       "prompt_number": 4, 
       "text": [
        "False"
       ]
      }
     ], 
     "prompt_number": 4
    }, 
    {
     "cell_type": "code", 
     "collapsed": false, 
     "input": [
      "t1 == t2"
     ], 
     "language": "python", 
     "outputs": [
      {
       "output_type": "pyout", 
       "prompt_number": 5, 
       "text": [
        "False"
       ]
      }
     ], 
     "prompt_number": 5
    }, 
    {
     "cell_type": "code", 
     "collapsed": true, 
     "input": [
      "#Exercise 2", 
      "", 
      "# Inside class Deck:", 
      "", 
      "def sort(self):", 
      "      self.cards.sort()"
     ], 
     "language": "python", 
     "outputs": [], 
     "prompt_number": 7
    }, 
    {
     "cell_type": "code", 
     "collapsed": false, 
     "input": [
      "#Exercise 3", 
      "# Inside class Deck:", 
      "def deal_hands(self, nhands, ncards):", 
      "    t = []", 
      "    n = 1", 
      "    for i in nhands:", 
      "        h = Hand(n)", 
      "        for m in ncards:", 
      "           hand.add_card(self.pop_card())", 
      "        t.append(h)", 
      "    return t"
     ], 
     "language": "python", 
     "outputs": [], 
     "prompt_number": 11
    }, 
    {
     "cell_type": "code", 
     "collapsed": true, 
     "input": [], 
     "language": "python", 
     "outputs": [], 
     "prompt_number": 9
    }, 
    {
     "cell_type": "code", 
     "collapsed": true, 
     "input": [], 
     "language": "python", 
     "outputs": [], 
     "prompt_number": "&nbsp;"
    }
   ]
  }
 ]
}