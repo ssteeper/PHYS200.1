{
 "metadata": {
  "name": "Chapter10"
 }, 
 "nbformat": 2, 
 "worksheets": [
  {
   "cells": [
    {
     "cell_type": "code", 
     "collapsed": false, 
     "input": [
      "[10, 20, 30, 40]"
     ], 
     "language": "python", 
     "outputs": [
      {
       "output_type": "pyout", 
       "prompt_number": 1, 
       "text": [
        "[10, 20, 30, 40]"
       ]
      }
     ], 
     "prompt_number": 1
    }, 
    {
     "cell_type": "code", 
     "collapsed": false, 
     "input": [
      "t = ['cat', 'dog', 'rabbit']", 
      "sum(t)"
     ], 
     "language": "python", 
     "outputs": [
      {
       "ename": "TypeError", 
       "evalue": "cannot perform reduce with flexible type", 
       "output_type": "pyerr", 
       "traceback": [
        "<span class=\"ansired\">---------------------------------------------------------------------------</span>\n<span class=\"ansired\">TypeError</span>                                 Traceback (most recent call last)", 
        "<span class=\"ansigreen\">/home/ssteeper/PHYS200.1/&lt;ipython-input-2-f139191b3679&gt;</span> in <span class=\"ansicyan\">&lt;module&gt;</span><span class=\"ansiblue\">()</span>\n<span class=\"ansigreen\">      1</span> t <span class=\"ansiyellow\">=</span> <span class=\"ansiyellow\">[</span><span class=\"ansiblue\">&apos;cat&apos;</span><span class=\"ansiyellow\">,</span> <span class=\"ansiblue\">&apos;dog&apos;</span><span class=\"ansiyellow\">,</span> <span class=\"ansiblue\">&apos;rabbit&apos;</span><span class=\"ansiyellow\">]</span><span class=\"ansiyellow\"></span>\n<span class=\"ansigreen\">----&gt; 2</span><span class=\"ansiyellow\"> </span>sum<span class=\"ansiyellow\">(</span>t<span class=\"ansiyellow\">)</span><span class=\"ansiyellow\"></span>\n", 
        "<span class=\"ansigreen\">/home/ssteeper/Downloads/epd-7.2-2-rh5-x86/lib/python2.7/site-packages/numpy/core/fromnumeric.pyc</span> in <span class=\"ansicyan\">sum</span><span class=\"ansiblue\">(a, axis, dtype, out)</span>\n<span class=\"ansigreen\">   1452</span>         sum <span class=\"ansiyellow\">=</span> a<span class=\"ansiyellow\">.</span>sum<span class=\"ansiyellow\"></span>\n<span class=\"ansigreen\">   1453</span>     <span class=\"ansigreen\">except</span> AttributeError<span class=\"ansiyellow\">:</span><span class=\"ansiyellow\"></span>\n<span class=\"ansigreen\">-&gt; 1454</span><span class=\"ansiyellow\">         </span><span class=\"ansigreen\">return</span> _wrapit<span class=\"ansiyellow\">(</span>a<span class=\"ansiyellow\">,</span> <span class=\"ansiblue\">&apos;sum&apos;</span><span class=\"ansiyellow\">,</span> axis<span class=\"ansiyellow\">,</span> dtype<span class=\"ansiyellow\">,</span> out<span class=\"ansiyellow\">)</span><span class=\"ansiyellow\"></span>\n<span class=\"ansigreen\">   1455</span>     <span class=\"ansigreen\">return</span> sum<span class=\"ansiyellow\">(</span>axis<span class=\"ansiyellow\">,</span> dtype<span class=\"ansiyellow\">,</span> out<span class=\"ansiyellow\">)</span><span class=\"ansiyellow\"></span>\n<span class=\"ansigreen\">   1456</span> <span class=\"ansiyellow\"></span>\n", 
        "<span class=\"ansigreen\">/home/ssteeper/Downloads/epd-7.2-2-rh5-x86/lib/python2.7/site-packages/numpy/core/fromnumeric.pyc</span> in <span class=\"ansicyan\">_wrapit</span><span class=\"ansiblue\">(obj, method, *args, **kwds)</span>\n<span class=\"ansigreen\">     35</span>     <span class=\"ansigreen\">except</span> AttributeError<span class=\"ansiyellow\">:</span><span class=\"ansiyellow\"></span>\n<span class=\"ansigreen\">     36</span>         wrap <span class=\"ansiyellow\">=</span> None<span class=\"ansiyellow\"></span>\n<span class=\"ansigreen\">---&gt; 37</span><span class=\"ansiyellow\">     </span>result <span class=\"ansiyellow\">=</span> getattr<span class=\"ansiyellow\">(</span>asarray<span class=\"ansiyellow\">(</span>obj<span class=\"ansiyellow\">)</span><span class=\"ansiyellow\">,</span>method<span class=\"ansiyellow\">)</span><span class=\"ansiyellow\">(</span><span class=\"ansiyellow\">*</span>args<span class=\"ansiyellow\">,</span> <span class=\"ansiyellow\">**</span>kwds<span class=\"ansiyellow\">)</span><span class=\"ansiyellow\"></span>\n<span class=\"ansigreen\">     38</span>     <span class=\"ansigreen\">if</span> wrap<span class=\"ansiyellow\">:</span><span class=\"ansiyellow\"></span>\n<span class=\"ansigreen\">     39</span>         <span class=\"ansigreen\">if</span> <span class=\"ansigreen\">not</span> isinstance<span class=\"ansiyellow\">(</span>result<span class=\"ansiyellow\">,</span> mu<span class=\"ansiyellow\">.</span>ndarray<span class=\"ansiyellow\">)</span><span class=\"ansiyellow\">:</span><span class=\"ansiyellow\"></span>\n", 
        "<span class=\"ansired\">TypeError</span>: cannot perform reduce with flexible type"
       ]
      }
     ], 
     "prompt_number": 2
    }, 
    {
     "cell_type": "code", 
     "collapsed": true, 
     "input": [
      "#Exercise 10.1", 
      "", 
      "def cumulative(l):", 
      "    res = []", 
      "    index = 0", 
      "    for n in l:", 
      "        res.append(l[:index+1])", 
      "        index += 1", 
      "    return res", 
      "        "
     ], 
     "language": "python", 
     "outputs": [], 
     "prompt_number": 48
    }, 
    {
     "cell_type": "code", 
     "collapsed": false, 
     "input": [
      "cumulative([1,2,3])"
     ], 
     "language": "python", 
     "outputs": [
      {
       "output_type": "pyout", 
       "prompt_number": 49, 
       "text": [
        "[[1], [1, 2], [1, 2, 3]]"
       ]
      }
     ], 
     "prompt_number": 49
    }, 
    {
     "cell_type": "code", 
     "collapsed": false, 
     "input": [
      "t = [1,2,3]", 
      "sum(t)"
     ], 
     "language": "python", 
     "outputs": [
      {
       "output_type": "pyout", 
       "prompt_number": 50, 
       "text": [
        "[[1], [1, 2], [1, 2, 3]]"
       ]
      }
     ], 
     "prompt_number": 50
    }, 
    {
     "cell_type": "code", 
     "collapsed": true, 
     "input": [
      "#I've screwed up the built-in function \"sum\"", 
      "#but my function \"cumulative\" is on the right track", 
      "#I'll ask how to fix this in class"
     ], 
     "language": "python", 
     "outputs": [], 
     "prompt_number": 51
    }, 
    {
     "cell_type": "code", 
     "collapsed": true, 
     "input": [
      ""
     ], 
     "language": "python", 
     "outputs": [], 
     "prompt_number": "&nbsp;"
    }, 
    {
     "cell_type": "code", 
     "collapsed": true, 
     "input": [
      "#exercise 10.2", 
      "", 
      "def chop(l):", 
      "    del l[0]", 
      "    del l[-1]", 
      "    ", 
      "def middle(l):", 
      "    del l[0]", 
      "    del l[-1]", 
      "    return l", 
      "    ", 
      "    "
     ], 
     "language": "python", 
     "outputs": [], 
     "prompt_number": 74
    }, 
    {
     "cell_type": "code", 
     "collapsed": true, 
     "input": [
      "chop([1,2,3,4,5])"
     ], 
     "language": "python", 
     "outputs": [], 
     "prompt_number": 68
    }, 
    {
     "cell_type": "code", 
     "collapsed": true, 
     "input": [
      "t = [1,2,3,4,5]"
     ], 
     "language": "python", 
     "outputs": [], 
     "prompt_number": 69
    }, 
    {
     "cell_type": "code", 
     "collapsed": true, 
     "input": [
      "chop(t)"
     ], 
     "language": "python", 
     "outputs": [], 
     "prompt_number": 70
    }, 
    {
     "cell_type": "code", 
     "collapsed": false, 
     "input": [
      "print t"
     ], 
     "language": "python", 
     "outputs": [
      {
       "output_type": "stream", 
       "stream": "stdout", 
       "text": [
        "[2, 3, 4]"
       ]
      }
     ], 
     "prompt_number": 71
    }, 
    {
     "cell_type": "code", 
     "collapsed": true, 
     "input": [
      "x = chop(t)"
     ], 
     "language": "python", 
     "outputs": [], 
     "prompt_number": 72
    }, 
    {
     "cell_type": "code", 
     "collapsed": false, 
     "input": [
      "print x"
     ], 
     "language": "python", 
     "outputs": [
      {
       "output_type": "stream", 
       "stream": "stdout", 
       "text": [
        "None"
       ]
      }
     ], 
     "prompt_number": 73
    }, 
    {
     "cell_type": "code", 
     "collapsed": false, 
     "input": [
      "middle([1,2,3,4,5])"
     ], 
     "language": "python", 
     "outputs": [
      {
       "output_type": "pyout", 
       "prompt_number": 75, 
       "text": [
        "[2, 3, 4]"
       ]
      }
     ], 
     "prompt_number": 75
    }, 
    {
     "cell_type": "code", 
     "collapsed": true, 
     "input": [
      "#Excercise 10.3", 
      "", 
      "def is_sorted(l):", 
      "    index = 1", 
      "    for n in l:", 
      "        if l[index] <= l[index-1]:", 
      "            return False", 
      "    return True"
     ], 
     "language": "python", 
     "outputs": [], 
     "prompt_number": 1
    }, 
    {
     "cell_type": "code", 
     "collapsed": false, 
     "input": [
      "is_sorted([1,2,3,4,5])"
     ], 
     "language": "python", 
     "outputs": [
      {
       "output_type": "pyout", 
       "prompt_number": 2, 
       "text": [
        "True"
       ]
      }
     ], 
     "prompt_number": 2
    }, 
    {
     "cell_type": "code", 
     "collapsed": false, 
     "input": [
      "is_sorted(['a','b','c'])"
     ], 
     "language": "python", 
     "outputs": [
      {
       "output_type": "pyout", 
       "prompt_number": 4, 
       "text": [
        "True"
       ]
      }
     ], 
     "prompt_number": 4
    }, 
    {
     "cell_type": "code", 
     "collapsed": false, 
     "input": [
      "is_sorted([1,2,3,3,2,4,5])"
     ], 
     "language": "python", 
     "outputs": [
      {
       "output_type": "pyout", 
       "prompt_number": 5, 
       "text": [
        "True"
       ]
      }
     ], 
     "prompt_number": 5
    }, 
    {
     "cell_type": "code", 
     "collapsed": false, 
     "input": [
      "is_sorted([3,2,1])"
     ], 
     "language": "python", 
     "outputs": [
      {
       "output_type": "pyout", 
       "prompt_number": 7, 
       "text": [
        "False"
       ]
      }
     ], 
     "prompt_number": 7
    }, 
    {
     "cell_type": "code", 
     "collapsed": false, 
     "input": [
      "is_sorted(['c','b','a'])"
     ], 
     "language": "python", 
     "outputs": [
      {
       "output_type": "pyout", 
       "prompt_number": 8, 
       "text": [
        "False"
       ]
      }
     ], 
     "prompt_number": 8
    }, 
    {
     "cell_type": "code", 
     "collapsed": true, 
     "input": [], 
     "language": "python", 
     "outputs": [], 
     "prompt_number": "&nbsp;"
    }
   ]
  }
 ]
}