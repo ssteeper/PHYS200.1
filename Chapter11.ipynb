{
 "metadata": {
  "name": "Chapter11"
 }, 
 "nbformat": 2, 
 "worksheets": [
  {
   "cells": [
    {
     "cell_type": "code", 
     "collapsed": true, 
     "input": [
      "#Excercise 11.2", 
      "", 
      "def histogram(s):", 
      "    d = dict()", 
      "    for c in s:", 
      "        d[c] = d.get('c', 0)", 
      "    return d"
     ], 
     "language": "python", 
     "outputs": [], 
     "prompt_number": 9
    }, 
    {
     "cell_type": "code", 
     "collapsed": false, 
     "input": [
      "histogram('brontosaurus')"
     ], 
     "language": "python", 
     "outputs": [
      {
       "output_type": "pyout", 
       "prompt_number": 10, 
       "text": [
        "{&apos;a&apos;: 0, &apos;b&apos;: 0, &apos;n&apos;: 0, &apos;o&apos;: 0, &apos;r&apos;: 0, &apos;s&apos;: 0, &apos;t&apos;: 0, &apos;u&apos;: 0}"
       ]
      }
     ], 
     "prompt_number": 10
    }, 
    {
     "cell_type": "code", 
     "collapsed": true, 
     "input": [], 
     "language": "python", 
     "outputs": [], 
     "prompt_number": "&nbsp;"
    }
   ]
  }
 ]
}