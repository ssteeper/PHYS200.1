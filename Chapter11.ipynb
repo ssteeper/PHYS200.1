{
 "metadata": {
  "name": "Chapter11"
 }, 
 "nbformat": 2, 
 "worksheets": [
  {
   "cells": [
    {
     "cell_type": "code", 
     "collapsed": true, 
     "input": [
      "#Excercise 11.2", 
      "", 
      "def histogram(s):", 
      "    d = dict()", 
      "    for c in s:", 
      "        d[c] = d.get(c, 0) + 1", 
      "    return d"
     ], 
     "language": "python", 
     "outputs": [], 
     "prompt_number": 7
    }, 
    {
     "cell_type": "code", 
     "collapsed": false, 
     "input": [
      "histogram('brontosaurus')"
     ], 
     "language": "python", 
     "outputs": [
      {
       "output_type": "pyout", 
       "prompt_number": 8, 
       "text": [
        "{&apos;a&apos;: 1, &apos;b&apos;: 1, &apos;n&apos;: 1, &apos;o&apos;: 2, &apos;r&apos;: 2, &apos;s&apos;: 2, &apos;t&apos;: 1, &apos;u&apos;: 2}"
       ]
      }
     ], 
     "prompt_number": 8
    }, 
    {
     "cell_type": "code", 
     "collapsed": true, 
     "input": [
      "#Exercise 11.3", 
      "", 
      "def print_hist(h):", 
      "    x = h.keys()", 
      "    x.sort()", 
      "    for c in x:", 
      "        print c, h[c]", 
      "        "
     ], 
     "language": "python", 
     "outputs": [], 
     "prompt_number": 9
    }, 
    {
     "cell_type": "code", 
     "collapsed": false, 
     "input": [
      "print_hist(histogram('brontosaurus'))"
     ], 
     "language": "python", 
     "outputs": [
      {
       "output_type": "stream", 
       "stream": "stdout", 
       "text": [
        "a 1", 
        "b 1", 
        "n 1", 
        "o 2", 
        "r 2", 
        "s 2", 
        "t 1", 
        "u 2"
       ]
      }
     ], 
     "prompt_number": 12
    }, 
    {
     "cell_type": "code", 
     "collapsed": true, 
     "input": [
      "#Exercise 11.4", 
      "", 
      "def reverse_lookup(d, v):", 
      "    l = []", 
      "    for i in d:", 
      "        if d[i] == v:", 
      "            l.append(i)", 
      "    return l"
     ], 
     "language": "python", 
     "outputs": [], 
     "prompt_number": 20
    }, 
    {
     "cell_type": "code", 
     "collapsed": false, 
     "input": [
      "print reverse_lookup(d, 2)"
     ], 
     "language": "python", 
     "outputs": [
      {
       "output_type": "stream", 
       "stream": "stdout", 
       "text": [
        "[&apos;o&apos;, &apos;s&apos;, &apos;r&apos;, &apos;u&apos;]"
       ]
      }
     ], 
     "prompt_number": 21
    }, 
    {
     "cell_type": "code", 
     "collapsed": true, 
     "input": [
      "d = histogram('brontosaurus')"
     ], 
     "language": "python", 
     "outputs": [], 
     "prompt_number": 22
    }, 
    {
     "cell_type": "code", 
     "collapsed": true, 
     "input": [
      "def invert_dict(d):", 
      "    inv = dict()", 
      "    for key in d:", 
      "        x = d[key]", 
      "        inv.setdefault(x, []).append(key)", 
      "    return inv"
     ], 
     "language": "python", 
     "outputs": [], 
     "prompt_number": 23
    }, 
    {
     "cell_type": "code", 
     "collapsed": false, 
     "input": [
      "invert_dict(d)"
     ], 
     "language": "python", 
     "outputs": [
      {
       "output_type": "pyout", 
       "prompt_number": 26, 
       "text": [
        "{1: [&apos;a&apos;, &apos;c&apos;, &apos;e&apos;, &apos;d&apos;, &apos;l&apos;, &apos;p&apos;, &apos;s&apos;, &apos;u&apos;, &apos;x&apos;], 2: [&apos;i&apos;], 3: [&apos;o&apos;]}"
       ]
      }
     ], 
     "prompt_number": 26
    }, 
    {
     "cell_type": "code", 
     "collapsed": true, 
     "input": [
      "d = histogram('expialodocious')"
     ], 
     "language": "python", 
     "outputs": [], 
     "prompt_number": 27
    }, 
    {
     "cell_type": "code", 
     "collapsed": true, 
     "input": [], 
     "language": "python", 
     "outputs": [], 
     "prompt_number": "&nbsp;"
    }
   ]
  }
 ]
}