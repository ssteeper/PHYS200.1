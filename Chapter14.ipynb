{
 "metadata": {
  "name": "Chapter14"
 }, 
 "nbformat": 2, 
 "worksheets": [
  {
   "cells": [
    {
     "cell_type": "code", 
     "collapsed": false, 
     "input": [
      "fout = open('output.txt', 'w')", 
      "print fout"
     ], 
     "language": "python", 
     "outputs": [
      {
       "output_type": "stream", 
       "stream": "stdout", 
       "text": [
        "&lt;open file &apos;output.txt&apos;, mode &apos;w&apos; at 0xaabf230&gt;"
       ]
      }
     ], 
     "prompt_number": 1
    }, 
    {
     "cell_type": "code", 
     "collapsed": false, 
     "input": [
      "line1 = 'Herro, world!'", 
      "fout.write(line1)"
     ], 
     "language": "python", 
     "outputs": [], 
     "prompt_number": 4
    }, 
    {
     "cell_type": "code", 
     "collapsed": true, 
     "input": [], 
     "language": "python", 
     "outputs": [], 
     "prompt_number": 4
    }, 
    {
     "cell_type": "code", 
     "collapsed": false, 
     "input": [
      "import os", 
      "cwd = os.getcwd()", 
      "print cwd"
     ], 
     "language": "python", 
     "outputs": [
      {
       "output_type": "stream", 
       "stream": "stdout", 
       "text": [
        "/home/ssteeper/PHYS200.1"
       ]
      }
     ], 
     "prompt_number": 5
    }, 
    {
     "cell_type": "code", 
     "collapsed": true, 
     "input": [
      "", 
      "def walk(dir):", 
      "    for name in os.listdir(dir):", 
      "        path = os.path.join(dir, name)", 
      "        ", 
      "        if os.path.isfile(path):", 
      "            print path", 
      "        else: walk(path)", 
      "            "
     ], 
     "language": "python", 
     "outputs": [], 
     "prompt_number": 6
    }, 
    {
     "cell_type": "code", 
     "collapsed": false, 
     "input": [
      "walk('home/ssteeper/PHYS200.1')"
     ], 
     "language": "python", 
     "outputs": [
      {
       "ename": "OSError", 
       "evalue": "[Errno 2] No such file or directory: 'home/ssteeper/PHYS200.1'", 
       "output_type": "pyerr", 
       "traceback": [
        "<span class=\"ansired\">---------------------------------------------------------------------------</span>\n<span class=\"ansired\">OSError</span>                                   Traceback (most recent call last)", 
        "<span class=\"ansigreen\">/home/ssteeper/PHYS200.1/&lt;ipython-input-9-6ca74a2e9d49&gt;</span> in <span class=\"ansicyan\">&lt;module&gt;</span><span class=\"ansiblue\">()</span>\n<span class=\"ansigreen\">----&gt; 1</span><span class=\"ansiyellow\"> </span>walk<span class=\"ansiyellow\">(</span><span class=\"ansiblue\">&apos;home/ssteeper/PHYS200.1&apos;</span><span class=\"ansiyellow\">)</span><span class=\"ansiyellow\"></span>\n", 
        "<span class=\"ansigreen\">/home/ssteeper/PHYS200.1/&lt;ipython-input-6-82578974c2f5&gt;</span> in <span class=\"ansicyan\">walk</span><span class=\"ansiblue\">(dir)</span>\n<span class=\"ansigreen\">      1</span> <span class=\"ansigreen\">def</span> walk<span class=\"ansiyellow\">(</span>dir<span class=\"ansiyellow\">)</span><span class=\"ansiyellow\">:</span><span class=\"ansiyellow\"></span>\n<span class=\"ansigreen\">----&gt; 2</span><span class=\"ansiyellow\">     </span><span class=\"ansigreen\">for</span> name <span class=\"ansigreen\">in</span> os<span class=\"ansiyellow\">.</span>listdir<span class=\"ansiyellow\">(</span>dir<span class=\"ansiyellow\">)</span><span class=\"ansiyellow\">:</span><span class=\"ansiyellow\"></span>\n<span class=\"ansigreen\">      3</span>         path <span class=\"ansiyellow\">=</span> os<span class=\"ansiyellow\">.</span>path<span class=\"ansiyellow\">.</span>join<span class=\"ansiyellow\">(</span>dir<span class=\"ansiyellow\">,</span> name<span class=\"ansiyellow\">)</span><span class=\"ansiyellow\"></span>\n<span class=\"ansigreen\">      4</span> <span class=\"ansiyellow\"></span>\n<span class=\"ansigreen\">      5</span>         <span class=\"ansigreen\">if</span> os<span class=\"ansiyellow\">.</span>path<span class=\"ansiyellow\">.</span>isfile<span class=\"ansiyellow\">(</span>path<span class=\"ansiyellow\">)</span><span class=\"ansiyellow\">:</span><span class=\"ansiyellow\"></span>\n", 
        "<span class=\"ansired\">OSError</span>: [Errno 2] No such file or directory: &apos;home/ssteeper/PHYS200.1&apos;"
       ]
      }
     ], 
     "prompt_number": 9
    }, 
    {
     "cell_type": "code", 
     "collapsed": false, 
     "input": [
      "def walk(cwd)"
     ], 
     "language": "python", 
     "outputs": [
      {
       "ename": "SyntaxError", 
       "evalue": "invalid syntax (<ipython-input-12-ddf1dacd2e7f>, line 1)", 
       "output_type": "pyerr", 
       "traceback": [
        "<span class=\"ansicyan\">  File </span><span class=\"ansigreen\">&quot;&lt;ipython-input-12-ddf1dacd2e7f&gt;&quot;</span><span class=\"ansicyan\">, line </span><span class=\"ansigreen\">1</span>\n<span class=\"ansiyellow\">    def walk(cwd)</span>\n<span class=\"ansigrey\">                 ^</span>\n<span class=\"ansired\">SyntaxError</span><span class=\"ansired\">:</span> invalid syntax\n"
       ]
      }
     ], 
     "prompt_number": 12
    }, 
    {
     "cell_type": "code", 
     "collapsed": true, 
     "input": [
      "cwd = os.getcwd()"
     ], 
     "language": "python", 
     "outputs": [], 
     "prompt_number": 13
    }, 
    {
     "cell_type": "code", 
     "collapsed": false, 
     "input": [
      "walk(cwd)"
     ], 
     "language": "python", 
     "outputs": [
      {
       "output_type": "stream", 
       "stream": "stdout", 
       "text": [
        "/home/ssteeper/PHYS200.1/book.txt", 
        "/home/ssteeper/PHYS200.1/Chapter10.ipynb", 
        "/home/ssteeper/PHYS200.1/Untitled1.ipynb", 
        "/home/ssteeper/PHYS200.1/Chapter8.ipynb", 
        "/home/ssteeper/PHYS200.1/Chapter12.ipynb", 
        "/home/ssteeper/PHYS200.1/.git/config", 
        "/home/ssteeper/PHYS200.1/.git/HEAD"
       ]
      }, 
      {
       "output_type": "stream", 
       "stream": "stdout", 
       "text": [
        "", 
        "/home/ssteeper/PHYS200.1/.git/refs/heads/master", 
        "/home/ssteeper/PHYS200.1/.git/refs/remotes/origin/master", 
        "/home/ssteeper/PHYS200.1/.git/hooks/commit-msg.sample", 
        "/home/ssteeper/PHYS200.1/.git/hooks/post-commit.sample", 
        "/home/ssteeper/PHYS200.1/.git/hooks/pre-commit.sample", 
        "/home/ssteeper/PHYS200.1/.git/hooks/applypatch-msg.sample", 
        "/home/ssteeper/PHYS200.1/.git/hooks/post-update.sample", 
        "/home/ssteeper/PHYS200.1/.git/hooks/pre-applypatch.sample", 
        "/home/ssteeper/PHYS200.1/.git/hooks/post-receive.sample", 
        "/home/ssteeper/PHYS200.1/.git/hooks/prepare-commit-msg.sample", 
        "/home/ssteeper/PHYS200.1/.git/hooks/update.sample", 
        "/home/ssteeper/PHYS200.1/.git/hooks/pre-rebase.sample", 
        "/home/ssteeper/PHYS200.1/.git/logs/HEAD", 
        "/home/ssteeper/PHYS200.1/.git/logs/refs/heads/master", 
        "/home/ssteeper/PHYS200.1/.git/logs/refs/remotes/origin/master", 
        "/home/ssteeper/PHYS200.1/.git/index", 
        "/home/ssteeper/PHYS200.1/.git/info/exclude", 
        "/home/ssteeper/PHYS200.1/.git/COMMIT_EDITMSG", 
        "/home/ssteeper/PHYS200.1/.git/description", 
        "/home/ssteeper/PHYS200.1/.git/objects/7a/8d30481f13d444cde348d9f6ac630d0a2087a7", 
        "/home/ssteeper/PHYS200.1/.git/objects/4e/38887848b48ea53b23d1cf7f967d0e73d55889", 
        "/home/ssteeper/PHYS200.1/.git/objects/9a/4ced2bbc6e502c80359e8e9408b25b3a90c316", 
        "/home/ssteeper/PHYS200.1/.git/objects/97/e4a7eb90e21c335bf862e969c83c73ed388861"
       ]
      }, 
      {
       "output_type": "stream", 
       "stream": "stdout", 
       "text": [
        "", 
        "/home/ssteeper/PHYS200.1/.git/objects/97/db93fd527fdeed891b40dc3b1420941f55b886", 
        "/home/ssteeper/PHYS200.1/.git/objects/55/a5bf117cf0603bef3420f44511c8ed3863ef00", 
        "/home/ssteeper/PHYS200.1/.git/objects/32/cca504bf8a3e7814419fe68b31c2b80217d469", 
        "/home/ssteeper/PHYS200.1/.git/objects/54/3b9bebdc6bd5c4b22136034a95dd097a57d3dd", 
        "/home/ssteeper/PHYS200.1/.git/objects/63/d811d6b048bd3dfef00ab3007408914775a82a", 
        "/home/ssteeper/PHYS200.1/.git/objects/88/627062ac927eb7fb3efb60106a4666d6010223", 
        "/home/ssteeper/PHYS200.1/.git/objects/79/169b9931e6ced06d0d82f0cc7adc28a4226d6e", 
        "/home/ssteeper/PHYS200.1/.git/objects/bf/3625fd29e8e2c0e464453ff121e2ce389a8e99", 
        "/home/ssteeper/PHYS200.1/.git/objects/39/7ebe99b3e25f4cd800c04d992d7bc9d0a44266", 
        "/home/ssteeper/PHYS200.1/.git/objects/ef/ab77c3daab62da3000e0ed3fce1339a4b9be43", 
        "/home/ssteeper/PHYS200.1/.git/objects/4a/d432418bbe1bccde1e5fe4d01e8e67f91a684f", 
        "/home/ssteeper/PHYS200.1/.git/objects/b7/f6282bf69069d9ca72785626c9c2c26c3061ff", 
        "/home/ssteeper/PHYS200.1/.git/objects/65/c0042c4768d1c672dc25bad78ecde0bc31457a", 
        "/home/ssteeper/PHYS200.1/.git/objects/b3/1ba60c5cc9f9328df7910645bfcef5f15707b8", 
        "/home/ssteeper/PHYS200.1/.git/objects/e6/9de29bb2d1d6434b8b29ae775ad8c2e48c5391", 
        "/home/ssteeper/PHYS200.1/.git/objects/ac/4e548c9c50ac40cac02c7bfa7b504d1b2a18c3"
       ]
      }, 
      {
       "output_type": "stream", 
       "stream": "stdout", 
       "text": [
        "", 
        "/home/ssteeper/PHYS200.1/.git/objects/69/57b360b656c2a9069ce8166ab7b031bea66b5c", 
        "/home/ssteeper/PHYS200.1/.git/objects/05/b0b5c9e0387c627705412dd3ed841863ea1092"
       ]
      }, 
      {
       "output_type": "stream", 
       "stream": "stdout", 
       "text": [
        "", 
        "/home/ssteeper/PHYS200.1/.git/objects/0f/8fb95369dc8d53aeb1baf598a1e41ec76dfe73", 
        "/home/ssteeper/PHYS200.1/.git/objects/af/ffdbdf7605735eac160ab0550f38ba76d737fc"
       ]
      }, 
      {
       "output_type": "stream", 
       "stream": "stdout", 
       "text": [
        "", 
        "/home/ssteeper/PHYS200.1/.git/objects/1c/d9d120b9bba0871399372172a13bc4911aa2b4", 
        "/home/ssteeper/PHYS200.1/.git/objects/51/e8ea0c276941c64f6c3d1f72c822881c51cfbd", 
        "/home/ssteeper/PHYS200.1/.git/objects/99/2b4593cd02044d8c5cf495fb1f79a1e2979da7", 
        "/home/ssteeper/PHYS200.1/.git/objects/f3/a535032741442bf336b4f7d5831b7ff79630d3", 
        "/home/ssteeper/PHYS200.1/.git/objects/80/cd097da332b39da7ff49965bae6f84fc1f9cb6", 
        "/home/ssteeper/PHYS200.1/.git/objects/db/e10ac660bbe33680f57a7e636d31f1d4f59eae", 
        "/home/ssteeper/PHYS200.1/.git/objects/e4/3d9245da296869aa91a916c149ac0c40800a24", 
        "/home/ssteeper/PHYS200.1/.git/objects/fd/a9c563022d84d7fc964ac281c6962f1c853e5b", 
        "/home/ssteeper/PHYS200.1/.git/objects/30/cf7c68255bef8f571cc414fbc72ef1f42f9e20", 
        "/home/ssteeper/PHYS200.1/.git/objects/46/50d6dfa60a1c4692d54bc7b436ad7eee7ccc44", 
        "/home/ssteeper/PHYS200.1/.git/objects/81/1d8a37f64626e6a4c930be4edf17211768419e", 
        "/home/ssteeper/PHYS200.1/.git/objects/21/226d24d7d2caa476df122f40e3f9c28217c174", 
        "/home/ssteeper/PHYS200.1/.git/objects/4d/be3ae5a8c6d6014fa66e9354f17cb11fc1098c", 
        "/home/ssteeper/PHYS200.1/.git/objects/4d/6c67bf5ce8ee29a16f4c82f00ee0d55a0d4069", 
        "/home/ssteeper/PHYS200.1/.git/objects/76/4890afbef84e70322d81fd499d8cdabf487962", 
        "/home/ssteeper/PHYS200.1/.git/objects/dd/031f28cd96ae364b87b92b2001d35c41a595c5", 
        "/home/ssteeper/PHYS200.1/.git/objects/d9/39166bbc92f8262205c921a06c54b65aeec32f", 
        "/home/ssteeper/PHYS200.1/.git/objects/3c/72fc19c91c60ff20c604a598cd085964d940db", 
        "/home/ssteeper/PHYS200.1/.git/objects/1b/fe2d8642da5f1c99819a5d505707477f6ae70b", 
        "/home/ssteeper/PHYS200.1/.git/objects/b4/940b758730abf0c594f86a88f58f2fafb4820f", 
        "/home/ssteeper/PHYS200.1/.git/objects/b0/bf5647536fbc5f978252f7bf81fefa18a7516a", 
        "/home/ssteeper/PHYS200.1/.git/objects/f2/87ffb3258ef5f64c73fda76312b56998e221ae", 
        "/home/ssteeper/PHYS200.1/.git/objects/2a/f2f17afd9a261c48541da03ceddce8744fd7fc", 
        "/home/ssteeper/PHYS200.1/.git/objects/40/e9877e5c6e666ee4b34fb875b3430c13f9f86a", 
        "/home/ssteeper/PHYS200.1/Untitled0.ipynb"
       ]
      }, 
      {
       "output_type": "stream", 
       "stream": "stdout", 
       "text": [
        "", 
        "/home/ssteeper/PHYS200.1/Chapter3.ipynb", 
        "/home/ssteeper/PHYS200.1/Chapter5.ipynb", 
        "/home/ssteeper/PHYS200.1/Chapter6.ipynb", 
        "/home/ssteeper/PHYS200.1/Chapter13.ipynb", 
        "/home/ssteeper/PHYS200.1/Chapter4.ipynb", 
        "/home/ssteeper/PHYS200.1/output.txt", 
        "/home/ssteeper/PHYS200.1/Chapter2.ipynb", 
        "/home/ssteeper/PHYS200.1/Chapter7.ipynb", 
        "/home/ssteeper/PHYS200.1/Chatper14.ipynb", 
        "/home/ssteeper/PHYS200.1/Chapter1.ipynb", 
        "/home/ssteeper/PHYS200.1/MyFirstNotebook.ipynb", 
        "/home/ssteeper/PHYS200.1/test.txt", 
        "/home/ssteeper/PHYS200.1/text.txt", 
        "/home/ssteeper/PHYS200.1/README"
       ]
      }
     ], 
     "prompt_number": 14
    }, 
    {
     "cell_type": "code", 
     "collapsed": true, 
     "input": [
      "#Exercise 14.1", 
      "", 
      "def walk(dir):", 
      "    res = []", 
      "    for name in os.listdir(dir):", 
      "        path = os.path.join(dir, name)", 
      "        ", 
      "        if os.path.isfile(path):", 
      "            res.append(path)", 
      "        else: walk(path)", 
      "    return res"
     ], 
     "language": "python", 
     "outputs": [], 
     "prompt_number": 15
    }, 
    {
     "cell_type": "code", 
     "collapsed": false, 
     "input": [
      "walk(cwd)"
     ], 
     "language": "python", 
     "outputs": [
      {
       "output_type": "pyout", 
       "prompt_number": 16, 
       "text": [
        "[&apos;/home/ssteeper/PHYS200.1/book.txt&apos;,", 
        " &apos;/home/ssteeper/PHYS200.1/Chapter10.ipynb&apos;,", 
        " &apos;/home/ssteeper/PHYS200.1/Untitled1.ipynb&apos;,", 
        " &apos;/home/ssteeper/PHYS200.1/Chapter8.ipynb&apos;,", 
        " &apos;/home/ssteeper/PHYS200.1/Chapter12.ipynb&apos;,", 
        " &apos;/home/ssteeper/PHYS200.1/Untitled0.ipynb&apos;,", 
        " &apos;/home/ssteeper/PHYS200.1/Chapter3.ipynb&apos;,", 
        " &apos;/home/ssteeper/PHYS200.1/Chapter5.ipynb&apos;,", 
        " &apos;/home/ssteeper/PHYS200.1/Chapter6.ipynb&apos;,", 
        " &apos;/home/ssteeper/PHYS200.1/Chapter13.ipynb&apos;,", 
        " &apos;/home/ssteeper/PHYS200.1/Chapter4.ipynb&apos;,", 
        " &apos;/home/ssteeper/PHYS200.1/output.txt&apos;,", 
        " &apos;/home/ssteeper/PHYS200.1/Chapter2.ipynb&apos;,", 
        " &apos;/home/ssteeper/PHYS200.1/Chapter7.ipynb&apos;,", 
        " &apos;/home/ssteeper/PHYS200.1/Chatper14.ipynb&apos;,", 
        " &apos;/home/ssteeper/PHYS200.1/Chapter1.ipynb&apos;,", 
        " &apos;/home/ssteeper/PHYS200.1/MyFirstNotebook.ipynb&apos;,", 
        " &apos;/home/ssteeper/PHYS200.1/test.txt&apos;,", 
        " &apos;/home/ssteeper/PHYS200.1/text.txt&apos;,", 
        " &apos;/home/ssteeper/PHYS200.1/README&apos;]"
       ]
      }
     ], 
     "prompt_number": 16
    }, 
    {
     "cell_type": "code", 
     "collapsed": true, 
     "input": [
      "import os"
     ], 
     "language": "python", 
     "outputs": [], 
     "prompt_number": 17
    }, 
    {
     "cell_type": "code", 
     "collapsed": false, 
     "input": [
      "import urllib", 
      "", 
      "conn = urllib.urlopen('http://thinkpython.com/secret.html')", 
      "for line in conn.fp:", 
      "    print line.strip()", 
      ""
     ], 
     "language": "python", 
     "outputs": [
      {
       "output_type": "stream", 
       "stream": "stdout", 
       "text": [
        "&lt;title&gt;Secret exercise&lt;/title&gt;", 
        "", 
        "&lt;h1&gt;Secret Think Python Exercise&lt;/h3&gt;", 
        "", 
        "&lt;p&gt;", 
        "If you are reading this, you are probably working on the urllib", 
        "exercise from Think Python.", 
        "", 
        "&lt;p&gt;", 
        "Next, you should read the documentation of the urllib module at", 
        "http://docs.python.org/lib/module-urllib.html", 
        "", 
        "&lt;p&gt;", 
        "Then go to www.uszip.com, which provides information about every zip code", 
        "in the country.  For example, the URL", 
        "", 
        "&lt;p&gt;", 
        "http://www.uszip.com/zip/02492", 
        "", 
        "&lt;p&gt;", 
        "provides information about Needham MA, including population, longitude", 
        "and latitude, etc.", 
        "", 
        "&lt;p&gt;", 
        "Write a program that prompts the user for a zip code and prints the", 
        "name and population of the corresponding town.", 
        "", 
        "&lt;p&gt;", 
        "Note: the text you get from uszip.com is in HTML, the language most", 
        "web pages are written in.  Even if you don&apos;t know HTML, you should be", 
        "able to extract the information you are looking for.", 
        "", 
        "&lt;p&gt;", 
        "By the way, your program is an example of a &quot;screen scraper.&quot;  You can", 
        "read more about this term at", 
        "", 
        "&lt;p&gt;", 
        "http://wikipedia.org/wiki/Screen_scraping", 
        "", 
        "&lt;p&gt;", 
        "Sites that make money from advertising don&apos;t like screen scrapers", 
        "because they don&apos;t display the ads.  Using a screen scraper violates", 
        "the terms of service for some sites; that&apos;s why this is a secret", 
        "exercise!", 
        "", 
        "&lt;script type=&quot;text/javascript&quot;&gt;", 
        "var gaJsHost = ((&quot;https:&quot; == document.location.protocol) ? &quot;https://ssl.&quot; : &quot;http://www.&quot;);", 
        "document.write(unescape(&quot;%3Cscript src=&apos;&quot; + gaJsHost + &quot;google-analytics.com/ga.js&apos; type=&apos;text/javascript&apos;%3E%3C/script%3E&quot;));", 
        "&lt;/script&gt;", 
        "&lt;script type=&quot;text/javascript&quot;&gt;", 
        "try {", 
        "var pageTracker = _gat._getTracker(&quot;UA-9267613-1&quot;);", 
        "pageTracker._trackPageview();", 
        "} catch(err) {}&lt;/script&gt;", 
        "", 
        "&lt;/body&gt;"
       ]
      }
     ], 
     "prompt_number": 18
    }, 
    {
     "cell_type": "code", 
     "collapsed": true, 
     "input": [], 
     "language": "python", 
     "outputs": [], 
     "prompt_number": "&nbsp;"
    }
   ]
  }
 ]
}