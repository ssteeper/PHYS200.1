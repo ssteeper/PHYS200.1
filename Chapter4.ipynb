{
 "metadata": {
  "name": "Chapter4"
 }, 
 "nbformat": 2, 
 "worksheets": [
  {
   "cells": [
    {
     "cell_type": "code", 
     "collapsed": true, 
     "input": [
      "from TurtleWorld import *"
     ], 
     "language": "python", 
     "outputs": [], 
     "prompt_number": 1
    }, 
    {
     "cell_type": "code", 
     "collapsed": true, 
     "input": [
      "world = TurtleWorld()"
     ], 
     "language": "python", 
     "outputs": [], 
     "prompt_number": 2
    }, 
    {
     "cell_type": "code", 
     "collapsed": true, 
     "input": [
      "bob = Turtle()"
     ], 
     "language": "python", 
     "outputs": [], 
     "prompt_number": 3
    }, 
    {
     "cell_type": "code", 
     "collapsed": false, 
     "input": [
      "print bob"
     ], 
     "language": "python", 
     "outputs": [
      {
       "output_type": "stream", 
       "stream": "stdout", 
       "text": [
        "&lt;TurtleWorld.Turtle object at 0xa1bd54c&gt;"
       ]
      }
     ], 
     "prompt_number": 4
    }, 
    {
     "cell_type": "code", 
     "collapsed": true, 
     "input": [
      "wait_for_user()"
     ], 
     "language": "python", 
     "outputs": [], 
     "prompt_number": 5
    }, 
    {
     "cell_type": "code", 
     "collapsed": false, 
     "input": [
      "bob = Turtle()"
     ], 
     "language": "python", 
     "outputs": [
      {
       "ename": "TclError", 
       "evalue": "invalid command name \".169595404.169595564\"", 
       "output_type": "pyerr", 
       "traceback": [
        "<span class=\"ansired\">---------------------------------------------------------------------------</span>\n<span class=\"ansired\">TclError</span>                                  Traceback (most recent call last)", 
        "<span class=\"ansigreen\">/home/ssteeper/Downloads/epd-7.2-2-rh5-x86/lib/python2.7/site-packages/swampy-2.0/&lt;ipython-input-6-4f0fcbd5ef88&gt;</span> in <span class=\"ansicyan\">&lt;module&gt;</span><span class=\"ansiblue\">()</span>\n<span class=\"ansigreen\">----&gt; 1</span><span class=\"ansiyellow\"> </span>bob <span class=\"ansiyellow\">=</span> Turtle<span class=\"ansiyellow\">(</span><span class=\"ansiyellow\">)</span><span class=\"ansiyellow\"></span>\n", 
        "<span class=\"ansigreen\">/home/ssteeper/Downloads/epd-7.2-2-rh5-x86/lib/python2.7/site-packages/swampy-2.0/TurtleWorld.py</span> in <span class=\"ansicyan\">__init__</span><span class=\"ansiblue\">(self, world)</span>\n<span class=\"ansigreen\">    119</span>         self<span class=\"ansiyellow\">.</span>color <span class=\"ansiyellow\">=</span> <span class=\"ansiblue\">&apos;red&apos;</span><span class=\"ansiyellow\"></span>\n<span class=\"ansigreen\">    120</span>         self<span class=\"ansiyellow\">.</span>pen_color <span class=\"ansiyellow\">=</span> <span class=\"ansiblue\">&apos;blue&apos;</span><span class=\"ansiyellow\"></span>\n<span class=\"ansigreen\">--&gt; 121</span><span class=\"ansiyellow\">         </span>self<span class=\"ansiyellow\">.</span>draw<span class=\"ansiyellow\">(</span><span class=\"ansiyellow\">)</span><span class=\"ansiyellow\"></span>\n<span class=\"ansigreen\">    122</span> <span class=\"ansiyellow\"></span>\n<span class=\"ansigreen\">    123</span>     <span class=\"ansigreen\">def</span> get_x<span class=\"ansiyellow\">(</span>self<span class=\"ansiyellow\">)</span><span class=\"ansiyellow\">:</span><span class=\"ansiyellow\"></span>\n", 
        "<span class=\"ansigreen\">/home/ssteeper/Downloads/epd-7.2-2-rh5-x86/lib/python2.7/site-packages/swampy-2.0/TurtleWorld.py</span> in <span class=\"ansicyan\">draw</span><span class=\"ansiblue\">(self)</span>\n<span class=\"ansigreen\">    149</span> <span class=\"ansiyellow\"></span>\n<span class=\"ansigreen\">    150</span>         <span class=\"ansired\"># draw the line that makes the head and tail</span>\n<span class=\"ansiyellow\"></span>\n<span class=\"ansigreen\">--&gt; 151</span><span class=\"ansiyellow\">         </span>self<span class=\"ansiyellow\">.</span>_draw_line<span class=\"ansiyellow\">(</span><span class=\"ansicyan\">2.5</span><span class=\"ansiyellow\">,</span> <span class=\"ansicyan\">0</span><span class=\"ansiyellow\">,</span> tags<span class=\"ansiyellow\">=</span>self<span class=\"ansiyellow\">.</span>tag<span class=\"ansiyellow\">,</span> width<span class=\"ansiyellow\">=</span>lw<span class=\"ansiyellow\">,</span> arrow<span class=\"ansiyellow\">=</span>LAST<span class=\"ansiyellow\">)</span><span class=\"ansiyellow\"></span>\n<span class=\"ansigreen\">    152</span> <span class=\"ansiyellow\"></span>\n<span class=\"ansigreen\">    153</span>         <span class=\"ansired\"># draw the diagonal that makes two feet</span>\n<span class=\"ansiyellow\"></span>\n", 
        "<span class=\"ansigreen\">/home/ssteeper/Downloads/epd-7.2-2-rh5-x86/lib/python2.7/site-packages/swampy-2.0/TurtleWorld.py</span> in <span class=\"ansicyan\">_draw_line</span><span class=\"ansiblue\">(self, scale, dtheta, **options)</span>\n<span class=\"ansigreen\">    174</span>         head <span class=\"ansiyellow\">=</span> self<span class=\"ansiyellow\">.</span>polar<span class=\"ansiyellow\">(</span>self<span class=\"ansiyellow\">.</span>x<span class=\"ansiyellow\">,</span> self<span class=\"ansiyellow\">.</span>y<span class=\"ansiyellow\">,</span> r<span class=\"ansiyellow\">,</span> theta<span class=\"ansiyellow\">)</span><span class=\"ansiyellow\"></span>\n<span class=\"ansigreen\">    175</span>         tail <span class=\"ansiyellow\">=</span> self<span class=\"ansiyellow\">.</span>polar<span class=\"ansiyellow\">(</span>self<span class=\"ansiyellow\">.</span>x<span class=\"ansiyellow\">,</span> self<span class=\"ansiyellow\">.</span>y<span class=\"ansiyellow\">,</span> <span class=\"ansiyellow\">-</span>r<span class=\"ansiyellow\">,</span> theta<span class=\"ansiyellow\">)</span><span class=\"ansiyellow\"></span>\n<span class=\"ansigreen\">--&gt; 176</span><span class=\"ansiyellow\">         </span>self<span class=\"ansiyellow\">.</span>world<span class=\"ansiyellow\">.</span>canvas<span class=\"ansiyellow\">.</span>line<span class=\"ansiyellow\">(</span><span class=\"ansiyellow\">[</span>tail<span class=\"ansiyellow\">,</span> head<span class=\"ansiyellow\">]</span><span class=\"ansiyellow\">,</span> <span class=\"ansiyellow\">**</span>options<span class=\"ansiyellow\">)</span><span class=\"ansiyellow\"></span>\n<span class=\"ansigreen\">    177</span> <span class=\"ansiyellow\"></span>\n<span class=\"ansigreen\">    178</span>     <span class=\"ansigreen\">def</span> fd<span class=\"ansiyellow\">(</span>self<span class=\"ansiyellow\">,</span> dist<span class=\"ansiyellow\">=</span><span class=\"ansicyan\">1</span><span class=\"ansiyellow\">)</span><span class=\"ansiyellow\">:</span><span class=\"ansiyellow\"></span>\n", 
        "<span class=\"ansigreen\">/home/ssteeper/Downloads/epd-7.2-2-rh5-x86/lib/python2.7/site-packages/swampy-2.0/Gui.pyc</span> in <span class=\"ansicyan\">line</span><span class=\"ansiblue\">(self, coords, fill, **options)</span>\n<span class=\"ansigreen\">    797</span>         <span class=\"ansigreen\">and</span> pen color <span class=\"ansiyellow\">(</span>fill<span class=\"ansiyellow\">)</span><span class=\"ansiyellow\">.</span><span class=\"ansiyellow\"></span>\n<span class=\"ansigreen\">    798</span>         &quot;&quot;&quot;\n<span class=\"ansigreen\">--&gt; 799</span><span class=\"ansiyellow\">         </span>tag <span class=\"ansiyellow\">=</span> self<span class=\"ansiyellow\">.</span>create_line<span class=\"ansiyellow\">(</span>self<span class=\"ansiyellow\">.</span>trans<span class=\"ansiyellow\">(</span>coords<span class=\"ansiyellow\">)</span><span class=\"ansiyellow\">,</span> options<span class=\"ansiyellow\">,</span> fill<span class=\"ansiyellow\">=</span>fill<span class=\"ansiyellow\">)</span><span class=\"ansiyellow\"></span>\n<span class=\"ansigreen\">    800</span>         <span class=\"ansigreen\">return</span> Item<span class=\"ansiyellow\">(</span>self<span class=\"ansiyellow\">,</span> tag<span class=\"ansiyellow\">)</span><span class=\"ansiyellow\"></span>\n<span class=\"ansigreen\">    801</span> <span class=\"ansiyellow\"></span>\n", 
        "<span class=\"ansigreen\">/home/ssteeper/Downloads/epd-7.2-2-rh5-x86/lib/python2.7/lib-tk/Tkinter.pyc</span> in <span class=\"ansicyan\">create_line</span><span class=\"ansiblue\">(self, *args, **kw)</span>\n<span class=\"ansigreen\">   2199</span>     <span class=\"ansigreen\">def</span> create_line<span class=\"ansiyellow\">(</span>self<span class=\"ansiyellow\">,</span> <span class=\"ansiyellow\">*</span>args<span class=\"ansiyellow\">,</span> <span class=\"ansiyellow\">**</span>kw<span class=\"ansiyellow\">)</span><span class=\"ansiyellow\">:</span><span class=\"ansiyellow\"></span>\n<span class=\"ansigreen\">   2200</span>         <span class=\"ansiblue\">&quot;&quot;&quot;Create line with coordinates x1,y1,...,xn,yn.&quot;&quot;&quot;</span><span class=\"ansiyellow\"></span>\n<span class=\"ansigreen\">-&gt; 2201</span><span class=\"ansiyellow\">         </span><span class=\"ansigreen\">return</span> self<span class=\"ansiyellow\">.</span>_create<span class=\"ansiyellow\">(</span><span class=\"ansiblue\">&apos;line&apos;</span><span class=\"ansiyellow\">,</span> args<span class=\"ansiyellow\">,</span> kw<span class=\"ansiyellow\">)</span><span class=\"ansiyellow\"></span>\n<span class=\"ansigreen\">   2202</span>     <span class=\"ansigreen\">def</span> create_oval<span class=\"ansiyellow\">(</span>self<span class=\"ansiyellow\">,</span> <span class=\"ansiyellow\">*</span>args<span class=\"ansiyellow\">,</span> <span class=\"ansiyellow\">**</span>kw<span class=\"ansiyellow\">)</span><span class=\"ansiyellow\">:</span><span class=\"ansiyellow\"></span>\n<span class=\"ansigreen\">   2203</span>         <span class=\"ansiblue\">&quot;&quot;&quot;Create oval with coordinates x1,y1,x2,y2.&quot;&quot;&quot;</span><span class=\"ansiyellow\"></span>\n", 
        "<span class=\"ansigreen\">/home/ssteeper/Downloads/epd-7.2-2-rh5-x86/lib/python2.7/lib-tk/Tkinter.pyc</span> in <span class=\"ansicyan\">_create</span><span class=\"ansiblue\">(self, itemType, args, kw)</span>\n<span class=\"ansigreen\">   2187</span>         return getint(self.tk.call(\n<span class=\"ansigreen\">   2188</span>             self<span class=\"ansiyellow\">.</span>_w<span class=\"ansiyellow\">,</span> <span class=\"ansiblue\">&apos;create&apos;</span><span class=\"ansiyellow\">,</span> itemType<span class=\"ansiyellow\">,</span><span class=\"ansiyellow\"></span>\n<span class=\"ansigreen\">-&gt; 2189</span><span class=\"ansiyellow\">             *(args + self._options(cnf, kw))))\n</span><span class=\"ansigreen\">   2190</span>     <span class=\"ansigreen\">def</span> create_arc<span class=\"ansiyellow\">(</span>self<span class=\"ansiyellow\">,</span> <span class=\"ansiyellow\">*</span>args<span class=\"ansiyellow\">,</span> <span class=\"ansiyellow\">**</span>kw<span class=\"ansiyellow\">)</span><span class=\"ansiyellow\">:</span><span class=\"ansiyellow\"></span>\n<span class=\"ansigreen\">   2191</span>         <span class=\"ansiblue\">&quot;&quot;&quot;Create arc shaped region with coordinates x1,y1,x2,y2.&quot;&quot;&quot;</span><span class=\"ansiyellow\"></span>\n", 
        "<span class=\"ansired\">TclError</span>: invalid command name &quot;.169595404.169595564&quot;"
       ]
      }
     ], 
     "prompt_number": 6
    }, 
    {
     "cell_type": "code", 
     "collapsed": true, 
     "input": [
      "world = TurtleWorld()"
     ], 
     "language": "python", 
     "outputs": [], 
     "prompt_number": 7
    }, 
    {
     "cell_type": "code", 
     "collapsed": true, 
     "input": [
      "bob = Turtle()"
     ], 
     "language": "python", 
     "outputs": [], 
     "prompt_number": 8
    }, 
    {
     "cell_type": "code", 
     "collapsed": true, 
     "input": [
      "fd(bob, 100)", 
      "lt(bob)", 
      "fd(bob, 100)", 
      "lt(bob)", 
      "fd(bob, 100)", 
      "lt(bob)", 
      "fd(bob, 100)"
     ], 
     "language": "python", 
     "outputs": [], 
     "prompt_number": 10
    }, 
    {
     "cell_type": "code", 
     "collapsed": false, 
     "input": [
      "for i in range(4):", 
      "    print 'Hello!'"
     ], 
     "language": "python", 
     "outputs": [
      {
       "output_type": "stream", 
       "stream": "stdout", 
       "text": [
        "Hello!", 
        "Hello!", 
        "Hello!", 
        "Hello!"
       ]
      }
     ], 
     "prompt_number": 11
    }, 
    {
     "cell_type": "code", 
     "collapsed": true, 
     "input": [
      "for i in range(3):", 
      "    fd(bob, 100)", 
      "    lt(bob)"
     ], 
     "language": "python", 
     "outputs": [], 
     "prompt_number": 12
    }, 
    {
     "cell_type": "code", 
     "collapsed": true, 
     "input": [
      "wait_for_user()"
     ], 
     "language": "python", 
     "outputs": [], 
     "prompt_number": 13
    }, 
    {
     "cell_type": "code", 
     "collapsed": true, 
     "input": [
      "world = TurtleWorld()"
     ], 
     "language": "python", 
     "outputs": [], 
     "prompt_number": 14
    }, 
    {
     "cell_type": "code", 
     "collapsed": true, 
     "input": [
      "bob = Turtle()"
     ], 
     "language": "python", 
     "outputs": [], 
     "prompt_number": 15
    }, 
    {
     "cell_type": "code", 
     "collapsed": true, 
     "input": [
      "for i in range(4):", 
      "    fd(bob, 100)", 
      "    lt(bob)"
     ], 
     "language": "python", 
     "outputs": [], 
     "prompt_number": 16
    }, 
    {
     "cell_type": "code", 
     "collapsed": true, 
     "input": [
      "def square(t, length):", 
      "    for i in range(4):", 
      "        fd(t, length)", 
      "        lt(t)"
     ], 
     "language": "python", 
     "outputs": [], 
     "prompt_number": 21
    }, 
    {
     "cell_type": "code", 
     "collapsed": false, 
     "input": [
      "square(t)"
     ], 
     "language": "python", 
     "outputs": [
      {
       "ename": "NameError", 
       "evalue": "name 't' is not defined", 
       "output_type": "pyerr", 
       "traceback": [
        "<span class=\"ansired\">---------------------------------------------------------------------------</span>\n<span class=\"ansired\">NameError</span>                                 Traceback (most recent call last)", 
        "<span class=\"ansigreen\">/home/ssteeper/Downloads/epd-7.2-2-rh5-x86/lib/python2.7/site-packages/swampy-2.0/&lt;ipython-input-22-016bd25d6a29&gt;</span> in <span class=\"ansicyan\">&lt;module&gt;</span><span class=\"ansiblue\">()</span>\n<span class=\"ansigreen\">----&gt; 1</span><span class=\"ansiyellow\"> </span>square<span class=\"ansiyellow\">(</span>t<span class=\"ansiyellow\">)</span><span class=\"ansiyellow\"></span>\n", 
        "<span class=\"ansired\">NameError</span>: name &apos;t&apos; is not defined"
       ]
      }
     ], 
     "prompt_number": 22
    }, 
    {
     "cell_type": "code", 
     "collapsed": false, 
     "input": [
      "square(bob)"
     ], 
     "language": "python", 
     "outputs": [
      {
       "ename": "TypeError", 
       "evalue": "square() takes exactly 2 arguments (1 given)", 
       "output_type": "pyerr", 
       "traceback": [
        "<span class=\"ansired\">---------------------------------------------------------------------------</span>\n<span class=\"ansired\">TypeError</span>                                 Traceback (most recent call last)", 
        "<span class=\"ansigreen\">/home/ssteeper/Downloads/epd-7.2-2-rh5-x86/lib/python2.7/site-packages/swampy-2.0/&lt;ipython-input-23-6c79ef19bb07&gt;</span> in <span class=\"ansicyan\">&lt;module&gt;</span><span class=\"ansiblue\">()</span>\n<span class=\"ansigreen\">----&gt; 1</span><span class=\"ansiyellow\"> </span>square<span class=\"ansiyellow\">(</span>bob<span class=\"ansiyellow\">)</span><span class=\"ansiyellow\"></span>\n", 
        "<span class=\"ansired\">TypeError</span>: square() takes exactly 2 arguments (1 given)"
       ]
      }
     ], 
     "prompt_number": 23
    }, 
    {
     "cell_type": "code", 
     "collapsed": false, 
     "input": [
      "square(bob, 50)"
     ], 
     "language": "python", 
     "outputs": [], 
     "prompt_number": 24
    }, 
    {
     "cell_type": "code", 
     "collapsed": true, 
     "input": [
      "def polygon(t, length, n):", 
      "    for i in range(n):", 
      "        fd(t, length)", 
      "        lt(t, 360.0/n)"
     ], 
     "language": "python", 
     "outputs": [], 
     "prompt_number": 25
    }, 
    {
     "cell_type": "code", 
     "collapsed": true, 
     "input": [
      "polygon(bob, 50, 7)"
     ], 
     "language": "python", 
     "outputs": [], 
     "prompt_number": 26
    }, 
    {
     "cell_type": "code", 
     "collapsed": true, 
     "input": [
      "import math", 
      "def circle(t, r):", 
      "    circumference = 2 * math.pi * r", 
      "    n = 50", 
      "    length = circumference / n", 
      "    polygon(t, n, length)"
     ], 
     "language": "python", 
     "outputs": [], 
     "prompt_number": 27
    }, 
    {
     "cell_type": "code", 
     "collapsed": true, 
     "input": [
      "bob.delay = 0.01"
     ], 
     "language": "python", 
     "outputs": [], 
     "prompt_number": 28
    }, 
    {
     "cell_type": "code", 
     "collapsed": false, 
     "input": [
      "circle(bob, 50)"
     ], 
     "language": "python", 
     "outputs": [
      {
       "ename": "TypeError", 
       "evalue": "range() integer end argument expected, got float.", 
       "output_type": "pyerr", 
       "traceback": [
        "<span class=\"ansired\">---------------------------------------------------------------------------</span>\n<span class=\"ansired\">TypeError</span>                                 Traceback (most recent call last)", 
        "<span class=\"ansigreen\">/home/ssteeper/Downloads/epd-7.2-2-rh5-x86/lib/python2.7/site-packages/swampy-2.0/&lt;ipython-input-29-7ea7dca1f8fa&gt;</span> in <span class=\"ansicyan\">&lt;module&gt;</span><span class=\"ansiblue\">()</span>\n<span class=\"ansigreen\">----&gt; 1</span><span class=\"ansiyellow\"> </span>circle<span class=\"ansiyellow\">(</span>bob<span class=\"ansiyellow\">,</span> <span class=\"ansicyan\">50</span><span class=\"ansiyellow\">)</span><span class=\"ansiyellow\"></span>\n", 
        "<span class=\"ansigreen\">/home/ssteeper/Downloads/epd-7.2-2-rh5-x86/lib/python2.7/site-packages/swampy-2.0/&lt;ipython-input-27-e0d4b70627ac&gt;</span> in <span class=\"ansicyan\">circle</span><span class=\"ansiblue\">(t, r)</span>\n<span class=\"ansigreen\">      4</span>     n <span class=\"ansiyellow\">=</span> <span class=\"ansicyan\">50</span><span class=\"ansiyellow\"></span>\n<span class=\"ansigreen\">      5</span>     length <span class=\"ansiyellow\">=</span> circumference <span class=\"ansiyellow\">/</span> n<span class=\"ansiyellow\"></span>\n<span class=\"ansigreen\">----&gt; 6</span><span class=\"ansiyellow\">     </span>polygon<span class=\"ansiyellow\">(</span>t<span class=\"ansiyellow\">,</span> n<span class=\"ansiyellow\">,</span> length<span class=\"ansiyellow\">)</span><span class=\"ansiyellow\"></span>\n", 
        "<span class=\"ansigreen\">/home/ssteeper/Downloads/epd-7.2-2-rh5-x86/lib/python2.7/site-packages/swampy-2.0/&lt;ipython-input-25-09cd31e40fb5&gt;</span> in <span class=\"ansicyan\">polygon</span><span class=\"ansiblue\">(t, length, n)</span>\n<span class=\"ansigreen\">      1</span> <span class=\"ansigreen\">def</span> polygon<span class=\"ansiyellow\">(</span>t<span class=\"ansiyellow\">,</span> length<span class=\"ansiyellow\">,</span> n<span class=\"ansiyellow\">)</span><span class=\"ansiyellow\">:</span><span class=\"ansiyellow\"></span>\n<span class=\"ansigreen\">----&gt; 2</span><span class=\"ansiyellow\">     </span><span class=\"ansigreen\">for</span> i <span class=\"ansigreen\">in</span> range<span class=\"ansiyellow\">(</span>n<span class=\"ansiyellow\">)</span><span class=\"ansiyellow\">:</span><span class=\"ansiyellow\"></span>\n<span class=\"ansigreen\">      3</span>         fd<span class=\"ansiyellow\">(</span>t<span class=\"ansiyellow\">,</span> length<span class=\"ansiyellow\">)</span><span class=\"ansiyellow\"></span>\n<span class=\"ansigreen\">      4</span>         lt<span class=\"ansiyellow\">(</span>t<span class=\"ansiyellow\">,</span> <span class=\"ansicyan\">360.0</span><span class=\"ansiyellow\">/</span>n<span class=\"ansiyellow\">)</span><span class=\"ansiyellow\"></span>\n", 
        "<span class=\"ansired\">TypeError</span>: range() integer end argument expected, got float."
       ]
      }
     ], 
     "prompt_number": 29
    }, 
    {
     "cell_type": "code", 
     "collapsed": true, 
     "input": [
      "def arc(t, r, angle): ", 
      "    arc_length = 2 * math.pi * r * angle / 360", 
      "    n = int(arc_length / 3) + 1", 
      "    step_length = arc_length / n", 
      "    step_angle = float(angle) / n", 
      "    ", 
      "    for i in range(n):", 
      "        fd(t, step_length)", 
      "        lt(t, step_angle)"
     ], 
     "language": "python", 
     "outputs": [], 
     "prompt_number": 30
    }, 
    {
     "cell_type": "code", 
     "collapsed": true, 
     "input": [
      "arc(bob, 50, 45)"
     ], 
     "language": "python", 
     "outputs": [], 
     "prompt_number": 31
    }, 
    {
     "cell_type": "code", 
     "collapsed": true, 
     "input": [
      "arc(bob, 50, 180)"
     ], 
     "language": "python", 
     "outputs": [], 
     "prompt_number": 32
    }, 
    {
     "cell_type": "code", 
     "collapsed": true, 
     "input": [
      "def petal(t, r, angle):", 
      "    for i in range(2):", 
      "        arc(t, r, angle)", 
      "        lt(t, 180-angle)"
     ], 
     "language": "python", 
     "outputs": [], 
     "prompt_number": 33
    }, 
    {
     "cell_type": "code", 
     "collapsed": true, 
     "input": [
      "def flower(t, n, r, angle):", 
      "    for i in range(n):", 
      "        petal(t, r, angle)", 
      "        lt(t, 360.0/n)"
     ], 
     "language": "python", 
     "outputs": [], 
     "prompt_number": 34
    }, 
    {
     "cell_type": "code", 
     "collapsed": true, 
     "input": [
      "flower(bob, 20, 100, 50)"
     ], 
     "language": "python", 
     "outputs": [], 
     "prompt_number": 36
    }, 
    {
     "cell_type": "code", 
     "collapsed": true, 
     "input": [], 
     "language": "python", 
     "outputs": [], 
     "prompt_number": "&nbsp;"
    }
   ]
  }
 ]
}