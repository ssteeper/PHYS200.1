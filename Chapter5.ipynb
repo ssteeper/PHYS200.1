{
 "metadata": {
  "name": "Chapter5"
 }, 
 "nbformat": 2, 
 "worksheets": [
  {
   "cells": [
    {
     "cell_type": "code", 
     "collapsed": false, 
     "input": [
      "quotient = 7 / 3", 
      "print quotient"
     ], 
     "language": "python", 
     "outputs": [
      {
       "output_type": "stream", 
       "stream": "stdout", 
       "text": [
        "2"
       ]
      }
     ], 
     "prompt_number": 1
    }, 
    {
     "cell_type": "code", 
     "collapsed": false, 
     "input": [
      "remainder = 7 % 3", 
      "print remainder"
     ], 
     "language": "python", 
     "outputs": [
      {
       "output_type": "stream", 
       "stream": "stdout", 
       "text": [
        "1"
       ]
      }
     ], 
     "prompt_number": 2
    }, 
    {
     "cell_type": "code", 
     "collapsed": false, 
     "input": [
      "'input = raw_input()"
     ], 
     "language": "python", 
     "outputs": [
      {
       "ename": "StdinNotImplementedError", 
       "evalue": "raw_input was called, but this frontend does not support stdin.", 
       "output_type": "pyerr", 
       "traceback": [
        "<span class=\"ansired\">---------------------------------------------------------------------------</span>\n<span class=\"ansired\">StdinNotImplementedError</span>                  Traceback (most recent call last)", 
        "<span class=\"ansigreen\">/home/ssteeper/Downloads/epd-7.2-2-rh5-x86/lib/python2.7/site-packages/swampy-2.0/&lt;ipython-input-3-7e4dbdfa793c&gt;</span> in <span class=\"ansicyan\">&lt;module&gt;</span><span class=\"ansiblue\">()</span>\n<span class=\"ansigreen\">----&gt; 1</span><span class=\"ansiyellow\"> </span>input <span class=\"ansiyellow\">=</span> raw_input<span class=\"ansiyellow\">(</span><span class=\"ansiyellow\">)</span><span class=\"ansiyellow\"></span>\n", 
        "<span class=\"ansigreen\">/home/ssteeper/Downloads/epd-7.2-2-rh5-x86/lib/python2.7/site-packages/IPython/zmq/ipkernel.pyc</span> in <span class=\"ansicyan\">&lt;lambda&gt;</span><span class=\"ansiblue\">(prompt)</span>\n<span class=\"ansigreen\">    251</span>             raw_input <span class=\"ansiyellow\">=</span> <span class=\"ansigreen\">lambda</span> prompt<span class=\"ansiyellow\">=</span><span class=\"ansiblue\">&apos;&apos;</span><span class=\"ansiyellow\">:</span> self<span class=\"ansiyellow\">.</span>_raw_input<span class=\"ansiyellow\">(</span>prompt<span class=\"ansiyellow\">,</span> ident<span class=\"ansiyellow\">,</span> parent<span class=\"ansiyellow\">)</span><span class=\"ansiyellow\"></span>\n<span class=\"ansigreen\">    252</span>         <span class=\"ansigreen\">else</span><span class=\"ansiyellow\">:</span><span class=\"ansiyellow\"></span>\n<span class=\"ansigreen\">--&gt; 253</span><span class=\"ansiyellow\">             </span>raw_input <span class=\"ansiyellow\">=</span> <span class=\"ansigreen\">lambda</span> prompt<span class=\"ansiyellow\">=</span><span class=\"ansiblue\">&apos;&apos;</span> <span class=\"ansiyellow\">:</span> self<span class=\"ansiyellow\">.</span>_no_raw_input<span class=\"ansiyellow\">(</span><span class=\"ansiyellow\">)</span><span class=\"ansiyellow\"></span>\n<span class=\"ansigreen\">    254</span> <span class=\"ansiyellow\"></span>\n<span class=\"ansigreen\">    255</span>         <span class=\"ansigreen\">if</span> py3compat<span class=\"ansiyellow\">.</span>PY3<span class=\"ansiyellow\">:</span><span class=\"ansiyellow\"></span>\n", 
        "<span class=\"ansigreen\">/home/ssteeper/Downloads/epd-7.2-2-rh5-x86/lib/python2.7/site-packages/IPython/zmq/ipkernel.pyc</span> in <span class=\"ansicyan\">_no_raw_input</span><span class=\"ansiblue\">(self)</span>\n<span class=\"ansigreen\">    443</span>         &quot;&quot;&quot;Raise StdinNotImplentedError if active frontend doesn&apos;t support\n<span class=\"ansigreen\">    444</span>         stdin.&quot;&quot;&quot;\n<span class=\"ansigreen\">--&gt; 445</span><span class=\"ansiyellow\">         raise StdinNotImplementedError(&quot;raw_input was called, but this &quot;\n</span><span class=\"ansigreen\">    446</span>                                        &quot;frontend does not support stdin.&quot;) \n<span class=\"ansigreen\">    447</span> <span class=\"ansiyellow\"></span>\n", 
        "<span class=\"ansired\">StdinNotImplementedError</span>: raw_input was called, but this frontend does not support stdin."
       ]
      }
     ], 
     "prompt_number": 3
    }, 
    {
     "cell_type": "code", 
     "collapsed": false, 
     "input": [
      "def check_fermat(a,b,c,n):", 
      "    if n > 2 and (a**n + b**n == c**n):", 
      "        print \"Holy smokes, Fermat was wrong!\"", 
      "    else: ", 
      "        print \"No, that doesnt work\"", 
      "        "
     ], 
     "language": "python", 
     "outputs": [], 
     "prompt_number": 5
    }, 
    {
     "cell_type": "code", 
     "collapsed": false, 
     "input": [
      "check_fermat(1,2,3,4)"
     ], 
     "language": "python", 
     "outputs": [
      {
       "output_type": "stream", 
       "stream": "stdout", 
       "text": [
        "No, that doesnt work"
       ]
      }
     ], 
     "prompt_number": 6
    }, 
    {
     "cell_type": "code", 
     "collapsed": false, 
     "input": [
      "check_fermat(1,2,-1,4)"
     ], 
     "language": "python", 
     "outputs": [
      {
       "output_type": "stream", 
       "stream": "stdout", 
       "text": [
        "No, that doesnt work"
       ]
      }
     ], 
     "prompt_number": 7
    }, 
    {
     "cell_type": "code", 
     "collapsed": false, 
     "input": [
      "def fermat():", 
      "    a = raw_input('Enter a: ')", 
      "    b = raw_input('Enter b: ')", 
      "    c = raw_input('Enter c: ')", 
      "    n = raw_input('Enter n: ')", 
      "    int(a)", 
      "    int(b)", 
      "    int(c)", 
      "    int(n)", 
      "    check_fermat(a,b,c,n)"
     ], 
     "language": "python", 
     "outputs": [], 
     "prompt_number": 9
    }, 
    {
     "cell_type": "code", 
     "collapsed": false, 
     "input": [
      "fermat()"
     ], 
     "language": "python", 
     "outputs": [
      {
       "ename": "StdinNotImplementedError", 
       "evalue": "raw_input was called, but this frontend does not support stdin.", 
       "output_type": "pyerr", 
       "traceback": [
        "<span class=\"ansired\">---------------------------------------------------------------------------</span>\n<span class=\"ansired\">StdinNotImplementedError</span>                  Traceback (most recent call last)", 
        "<span class=\"ansigreen\">/home/ssteeper/Downloads/epd-7.2-2-rh5-x86/lib/python2.7/site-packages/swampy-2.0/&lt;ipython-input-10-86aa049f7254&gt;</span> in <span class=\"ansicyan\">&lt;module&gt;</span><span class=\"ansiblue\">()</span>\n<span class=\"ansigreen\">----&gt; 1</span><span class=\"ansiyellow\"> </span>fermat<span class=\"ansiyellow\">(</span><span class=\"ansiyellow\">)</span><span class=\"ansiyellow\"></span>\n", 
        "<span class=\"ansigreen\">/home/ssteeper/Downloads/epd-7.2-2-rh5-x86/lib/python2.7/site-packages/swampy-2.0/&lt;ipython-input-9-0260d1cc766e&gt;</span> in <span class=\"ansicyan\">fermat</span><span class=\"ansiblue\">()</span>\n<span class=\"ansigreen\">      1</span> <span class=\"ansigreen\">def</span> fermat<span class=\"ansiyellow\">(</span><span class=\"ansiyellow\">)</span><span class=\"ansiyellow\">:</span><span class=\"ansiyellow\"></span>\n<span class=\"ansigreen\">----&gt; 2</span><span class=\"ansiyellow\">     </span>a <span class=\"ansiyellow\">=</span> raw_input<span class=\"ansiyellow\">(</span><span class=\"ansiblue\">&apos;Enter a: &apos;</span><span class=\"ansiyellow\">)</span><span class=\"ansiyellow\"></span>\n<span class=\"ansigreen\">      3</span>     b <span class=\"ansiyellow\">=</span> raw_input<span class=\"ansiyellow\">(</span><span class=\"ansiblue\">&apos;Enter b: &apos;</span><span class=\"ansiyellow\">)</span><span class=\"ansiyellow\"></span>\n<span class=\"ansigreen\">      4</span>     c <span class=\"ansiyellow\">=</span> raw_input<span class=\"ansiyellow\">(</span><span class=\"ansiblue\">&apos;Enter c: &apos;</span><span class=\"ansiyellow\">)</span><span class=\"ansiyellow\"></span>\n<span class=\"ansigreen\">      5</span>     n <span class=\"ansiyellow\">=</span> raw_input<span class=\"ansiyellow\">(</span><span class=\"ansiblue\">&apos;Enter n: &apos;</span><span class=\"ansiyellow\">)</span><span class=\"ansiyellow\"></span>\n", 
        "<span class=\"ansigreen\">/home/ssteeper/Downloads/epd-7.2-2-rh5-x86/lib/python2.7/site-packages/IPython/zmq/ipkernel.pyc</span> in <span class=\"ansicyan\">&lt;lambda&gt;</span><span class=\"ansiblue\">(prompt)</span>\n<span class=\"ansigreen\">    251</span>             raw_input <span class=\"ansiyellow\">=</span> <span class=\"ansigreen\">lambda</span> prompt<span class=\"ansiyellow\">=</span><span class=\"ansiblue\">&apos;&apos;</span><span class=\"ansiyellow\">:</span> self<span class=\"ansiyellow\">.</span>_raw_input<span class=\"ansiyellow\">(</span>prompt<span class=\"ansiyellow\">,</span> ident<span class=\"ansiyellow\">,</span> parent<span class=\"ansiyellow\">)</span><span class=\"ansiyellow\"></span>\n<span class=\"ansigreen\">    252</span>         <span class=\"ansigreen\">else</span><span class=\"ansiyellow\">:</span><span class=\"ansiyellow\"></span>\n<span class=\"ansigreen\">--&gt; 253</span><span class=\"ansiyellow\">             </span>raw_input <span class=\"ansiyellow\">=</span> <span class=\"ansigreen\">lambda</span> prompt<span class=\"ansiyellow\">=</span><span class=\"ansiblue\">&apos;&apos;</span> <span class=\"ansiyellow\">:</span> self<span class=\"ansiyellow\">.</span>_no_raw_input<span class=\"ansiyellow\">(</span><span class=\"ansiyellow\">)</span><span class=\"ansiyellow\"></span>\n<span class=\"ansigreen\">    254</span> <span class=\"ansiyellow\"></span>\n<span class=\"ansigreen\">    255</span>         <span class=\"ansigreen\">if</span> py3compat<span class=\"ansiyellow\">.</span>PY3<span class=\"ansiyellow\">:</span><span class=\"ansiyellow\"></span>\n", 
        "<span class=\"ansigreen\">/home/ssteeper/Downloads/epd-7.2-2-rh5-x86/lib/python2.7/site-packages/IPython/zmq/ipkernel.pyc</span> in <span class=\"ansicyan\">_no_raw_input</span><span class=\"ansiblue\">(self)</span>\n<span class=\"ansigreen\">    443</span>         &quot;&quot;&quot;Raise StdinNotImplentedError if active frontend doesn&apos;t support\n<span class=\"ansigreen\">    444</span>         stdin.&quot;&quot;&quot;\n<span class=\"ansigreen\">--&gt; 445</span><span class=\"ansiyellow\">         raise StdinNotImplementedError(&quot;raw_input was called, but this &quot;\n</span><span class=\"ansigreen\">    446</span>                                        &quot;frontend does not support stdin.&quot;) \n<span class=\"ansigreen\">    447</span> <span class=\"ansiyellow\"></span>\n", 
        "<span class=\"ansired\">StdinNotImplementedError</span>: raw_input was called, but this frontend does not support stdin."
       ]
      }
     ], 
     "prompt_number": 10
    }, 
    {
     "cell_type": "code", 
     "collapsed": false, 
     "input": [
      "def is_triangle(a,b,c):", 
      "    if (a > b + c) or (b > a + c) or (c > a + b):", 
      "        print \"No\"", 
      "    else:", 
      "        print \"Yes\""
     ], 
     "language": "python", 
     "outputs": [], 
     "prompt_number": 12
    }, 
    {
     "cell_type": "code", 
     "collapsed": false, 
     "input": [
      "is_triangle(12,2,2)"
     ], 
     "language": "python", 
     "outputs": [
      {
       "output_type": "stream", 
       "stream": "stdout", 
       "text": [
        "No"
       ]
      }
     ], 
     "prompt_number": 13
    }, 
    {
     "cell_type": "code", 
     "collapsed": false, 
     "input": [
      "is_triangle(3,4,5)"
     ], 
     "language": "python", 
     "outputs": [
      {
       "output_type": "stream", 
       "stream": "stdout", 
       "text": [
        "Yes"
       ]
      }
     ], 
     "prompt_number": 14
    }, 
    {
     "cell_type": "code", 
     "collapsed": true, 
     "input": [], 
     "language": "python", 
     "outputs": [], 
     "prompt_number": "&nbsp;"
    }
   ]
  }
 ]
}