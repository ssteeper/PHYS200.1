{
 "metadata": {
  "name": "Chapter7"
 }, 
 "nbformat": 2, 
 "worksheets": [
  {
   "cells": [
    {
     "cell_type": "code", 
     "collapsed": true, 
     "input": [
      "def countdown(n):", 
      "    while n > 0: ", 
      "        print n ", 
      "        n = n-1", 
      "    print 'Blastoff!'"
     ], 
     "language": "python", 
     "outputs": [], 
     "prompt_number": 1
    }, 
    {
     "cell_type": "code", 
     "collapsed": false, 
     "input": [
      "countdown(10)"
     ], 
     "language": "python", 
     "outputs": [
      {
       "output_type": "stream", 
       "stream": "stdout", 
       "text": [
        "10", 
        "9", 
        "8", 
        "7", 
        "6", 
        "5", 
        "4", 
        "3", 
        "2", 
        "1", 
        "Blastoff!"
       ]
      }
     ], 
     "prompt_number": 2
    }, 
    {
     "cell_type": "code", 
     "collapsed": true, 
     "input": [
      "def square_root(a):", 
      "    epsilon = .0000001", 
      "    x = a/5", 
      "    while True:", 
      "        print x", 
      "        y = (x + a/x)/2", 
      "        if abs(y-x) < epsilon:", 
      "            break", 
      "        x=y"
     ], 
     "language": "python", 
     "outputs": [], 
     "prompt_number": 7
    }, 
    {
     "cell_type": "code", 
     "collapsed": false, 
     "input": [
      "square_root(10)"
     ], 
     "language": "python", 
     "outputs": [
      {
       "output_type": "stream", 
       "stream": "stdout", 
       "text": [
        "2", 
        "3"
       ]
      }
     ], 
     "prompt_number": 8
    }, 
    {
     "cell_type": "code", 
     "collapsed": false, 
     "input": [
      "square_root(23)"
     ], 
     "language": "python", 
     "outputs": [
      {
       "output_type": "stream", 
       "stream": "stdout", 
       "text": [
        "4"
       ]
      }
     ], 
     "prompt_number": 9
    }, 
    {
     "cell_type": "code", 
     "collapsed": true, 
     "input": [
      "def square_root(a):", 
      "    x = a/2", 
      "    i = 0", 
      "    while i < 10:", 
      "        y = (x +a /x)/2", 
      "        x=y", 
      "        i += 1", 
      "    return y"
     ], 
     "language": "python", 
     "outputs": [], 
     "prompt_number": 14
    }, 
    {
     "cell_type": "code", 
     "collapsed": false, 
     "input": [
      "square_root(23)"
     ], 
     "language": "python", 
     "outputs": [
      {
       "output_type": "pyout", 
       "prompt_number": 15, 
       "text": [
        "4"
       ]
      }
     ], 
     "prompt_number": 15
    }, 
    {
     "cell_type": "code", 
     "collapsed": true, 
     "input": [
      "import math"
     ], 
     "language": "python", 
     "outputs": [], 
     "prompt_number": 16
    }, 
    {
     "cell_type": "code", 
     "collapsed": true, 
     "input": [
      "def libmath(a):", 
      "    return math.sqrt(a)"
     ], 
     "language": "python", 
     "outputs": [], 
     "prompt_number": 22
    }, 
    {
     "cell_type": "code", 
     "collapsed": true, 
     "input": [
      "def printout():", 
      "    for i in range(1, 10):", 
      "        i = float(i)", 
      "        n = square_root(i)", 
      "        l = libmath(i)", 
      "        print i, n, l, abs(n-1)"
     ], 
     "language": "python", 
     "outputs": [], 
     "prompt_number": 23
    }, 
    {
     "cell_type": "code", 
     "collapsed": false, 
     "input": [
      "printout()"
     ], 
     "language": "python", 
     "outputs": [
      {
       "output_type": "stream", 
       "stream": "stdout", 
       "text": [
        "1.0 1.0 1.0 0.0", 
        "2.0 1.41421356237 1.41421356237 0.414213562373", 
        "3.0 1.73205080757 1.73205080757 0.732050807569", 
        "4.0 2.0 2.0 1.0", 
        "5.0 2.2360679775 2.2360679775 1.2360679775", 
        "6.0 2.44948974278 2.44948974278 1.44948974278", 
        "7.0 2.64575131106 2.64575131106 1.64575131106", 
        "8.0 2.82842712475 2.82842712475 1.82842712475", 
        "9.0 3.0 3.0 2.0"
       ]
      }
     ], 
     "prompt_number": 24
    }, 
    {
     "cell_type": "code", 
     "collapsed": false, 
     "input": [
      "def eval_loop():", 
      "    while True:", 
      "        input = raw_input('Enter a string')", 
      "        eval(string)", 
      "        if input == 'done':", 
      "            break"
     ], 
     "language": "python", 
     "outputs": [], 
     "prompt_number": 26
    }, 
    {
     "cell_type": "code", 
     "collapsed": false, 
     "input": [
      "eval_loop()"
     ], 
     "language": "python", 
     "outputs": [
      {
       "ename": "StdinNotImplementedError", 
       "evalue": "raw_input was called, but this frontend does not support stdin.", 
       "output_type": "pyerr", 
       "traceback": [
        "<span class=\"ansired\">---------------------------------------------------------------------------</span>\n<span class=\"ansired\">StdinNotImplementedError</span>                  Traceback (most recent call last)", 
        "<span class=\"ansigreen\">/home/ssteeper/PHYS200.1/&lt;ipython-input-28-72bcba2fb816&gt;</span> in <span class=\"ansicyan\">&lt;module&gt;</span><span class=\"ansiblue\">()</span>\n<span class=\"ansigreen\">----&gt; 1</span><span class=\"ansiyellow\"> </span>eval_loop<span class=\"ansiyellow\">(</span><span class=\"ansiyellow\">)</span><span class=\"ansiyellow\"></span>\n", 
        "<span class=\"ansigreen\">/home/ssteeper/PHYS200.1/&lt;ipython-input-26-5de700cf12c8&gt;</span> in <span class=\"ansicyan\">eval_loop</span><span class=\"ansiblue\">()</span>\n<span class=\"ansigreen\">      1</span> <span class=\"ansigreen\">def</span> eval_loop<span class=\"ansiyellow\">(</span><span class=\"ansiyellow\">)</span><span class=\"ansiyellow\">:</span><span class=\"ansiyellow\"></span>\n<span class=\"ansigreen\">      2</span>     <span class=\"ansigreen\">while</span> True<span class=\"ansiyellow\">:</span><span class=\"ansiyellow\"></span>\n<span class=\"ansigreen\">----&gt; 3</span><span class=\"ansiyellow\">         </span>input <span class=\"ansiyellow\">=</span> raw_input<span class=\"ansiyellow\">(</span><span class=\"ansiblue\">&apos;Enter a string&apos;</span><span class=\"ansiyellow\">)</span><span class=\"ansiyellow\"></span>\n<span class=\"ansigreen\">      4</span>         eval<span class=\"ansiyellow\">(</span>string<span class=\"ansiyellow\">)</span><span class=\"ansiyellow\"></span>\n<span class=\"ansigreen\">      5</span>         <span class=\"ansigreen\">if</span> input <span class=\"ansiyellow\">==</span> <span class=\"ansiblue\">&apos;done&apos;</span><span class=\"ansiyellow\">:</span><span class=\"ansiyellow\"></span>\n", 
        "<span class=\"ansigreen\">/home/ssteeper/Downloads/epd-7.2-2-rh5-x86/lib/python2.7/site-packages/IPython/zmq/ipkernel.pyc</span> in <span class=\"ansicyan\">&lt;lambda&gt;</span><span class=\"ansiblue\">(prompt)</span>\n<span class=\"ansigreen\">    251</span>             raw_input <span class=\"ansiyellow\">=</span> <span class=\"ansigreen\">lambda</span> prompt<span class=\"ansiyellow\">=</span><span class=\"ansiblue\">&apos;&apos;</span><span class=\"ansiyellow\">:</span> self<span class=\"ansiyellow\">.</span>_raw_input<span class=\"ansiyellow\">(</span>prompt<span class=\"ansiyellow\">,</span> ident<span class=\"ansiyellow\">,</span> parent<span class=\"ansiyellow\">)</span><span class=\"ansiyellow\"></span>\n<span class=\"ansigreen\">    252</span>         <span class=\"ansigreen\">else</span><span class=\"ansiyellow\">:</span><span class=\"ansiyellow\"></span>\n<span class=\"ansigreen\">--&gt; 253</span><span class=\"ansiyellow\">             </span>raw_input <span class=\"ansiyellow\">=</span> <span class=\"ansigreen\">lambda</span> prompt<span class=\"ansiyellow\">=</span><span class=\"ansiblue\">&apos;&apos;</span> <span class=\"ansiyellow\">:</span> self<span class=\"ansiyellow\">.</span>_no_raw_input<span class=\"ansiyellow\">(</span><span class=\"ansiyellow\">)</span><span class=\"ansiyellow\"></span>\n<span class=\"ansigreen\">    254</span> <span class=\"ansiyellow\"></span>\n<span class=\"ansigreen\">    255</span>         <span class=\"ansigreen\">if</span> py3compat<span class=\"ansiyellow\">.</span>PY3<span class=\"ansiyellow\">:</span><span class=\"ansiyellow\"></span>\n", 
        "<span class=\"ansigreen\">/home/ssteeper/Downloads/epd-7.2-2-rh5-x86/lib/python2.7/site-packages/IPython/zmq/ipkernel.pyc</span> in <span class=\"ansicyan\">_no_raw_input</span><span class=\"ansiblue\">(self)</span>\n<span class=\"ansigreen\">    443</span>         &quot;&quot;&quot;Raise StdinNotImplentedError if active frontend doesn&apos;t support\n<span class=\"ansigreen\">    444</span>         stdin.&quot;&quot;&quot;\n<span class=\"ansigreen\">--&gt; 445</span><span class=\"ansiyellow\">         raise StdinNotImplementedError(&quot;raw_input was called, but this &quot;\n</span><span class=\"ansigreen\">    446</span>                                        &quot;frontend does not support stdin.&quot;) \n<span class=\"ansigreen\">    447</span> <span class=\"ansiyellow\"></span>\n", 
        "<span class=\"ansired\">StdinNotImplementedError</span>: raw_input was called, but this frontend does not support stdin."
       ]
      }
     ], 
     "prompt_number": 28
    }, 
    {
     "cell_type": "code", 
     "collapsed": false, 
     "input": [
      "import math", 
      "", 
      "def factorial(n):", 
      "    if n == 0:", 
      "        return 1", 
      "    else:", 
      "        recurse = factorial(n-1)", 
      "        result = n * recurse", 
      "        return result", 
      "", 
      "def estimate_pi():", 
      "    total = 0", 
      "    k = 0", 
      "    factor = 2 * math.sqrt(2) / 9801", 
      "    while True:", 
      "        num = factorial(4*k) * (1103 + 26390*k)", 
      "        den = factorial(k)**4 * 396**(4*k)", 
      "        term = factor * num / den", 
      "        total = total + term", 
      "        ", 
      "        if abs(term) < 1e-15:", 
      "            break", 
      "        k = k + 1", 
      "", 
      "    return 1 / total", 
      "", 
      "print estimate_pi()"
     ], 
     "language": "python", 
     "outputs": [
      {
       "output_type": "stream", 
       "stream": "stdout", 
       "text": [
        "3.14159265359"
       ]
      }
     ], 
     "prompt_number": 29
    }, 
    {
     "cell_type": "code", 
     "collapsed": true, 
     "input": [], 
     "language": "python", 
     "outputs": [], 
     "prompt_number": "&nbsp;"
    }
   ]
  }
 ]
}