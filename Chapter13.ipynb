{
 "metadata": {
  "name": "Chapter13"
 }, 
 "nbformat": 2, 
 "worksheets": [
  {
   "cells": [
    {
     "cell_type": "code", 
     "collapsed": false, 
     "input": [
      "#Exercise 1", 
      "", 
      "import string", 
      "def exer1(d):", 
      "    test = open(d)", 
      "    for line in test:", 
      "        t = line.split()", 
      "    for word in t:", 
      "        word = word.strip(string.punctuation + string.whitespace)", 
      "        word = word.lower()", 
      "        print word", 
      "        "
     ], 
     "language": "python", 
     "outputs": [], 
     "prompt_number": 11
    }, 
    {
     "cell_type": "code", 
     "collapsed": false, 
     "input": [
      "exer1('text.txt')"
     ], 
     "language": "python", 
     "outputs": [], 
     "prompt_number": 12
    }, 
    {
     "cell_type": "code", 
     "collapsed": false, 
     "input": [
      "print t"
     ], 
     "language": "python", 
     "outputs": [
      {
       "ename": "NameError", 
       "evalue": "name 't' is not defined", 
       "output_type": "pyerr", 
       "traceback": [
        "<span class=\"ansired\">---------------------------------------------------------------------------</span>\n<span class=\"ansired\">NameError</span>                                 Traceback (most recent call last)", 
        "<span class=\"ansigreen\">/home/ssteeper/PHYS200.1/&lt;ipython-input-13-72ca88a82da5&gt;</span> in <span class=\"ansicyan\">&lt;module&gt;</span><span class=\"ansiblue\">()</span>\n<span class=\"ansigreen\">----&gt; 1</span><span class=\"ansiyellow\"> </span><span class=\"ansigreen\">print</span> t<span class=\"ansiyellow\"></span>\n", 
        "<span class=\"ansired\">NameError</span>: name &apos;t&apos; is not defined"
       ]
      }
     ], 
     "prompt_number": 13
    }, 
    {
     "cell_type": "code", 
     "collapsed": false, 
     "input": [
      "#Exercise 3", 
      "", 
      "def read_book(text):", 
      "    book = open(text)", 
      "    d = dict()", 
      "    hist = []", 
      "    total = 0", 
      "    for line in book:", 
      "        s = line.split()", 
      "        for word in s:", 
      "            word = word.strip(string.punctuation + string.whitespace + '-')", 
      "            word = word.lower()", 
      "            total += 1", 
      "            d[word] = d.get(word, 0) + 1", 
      "    for key in d:", 
      "        hist.append((d[key], key))", 
      "    hist.sort(reverse = True)", 
      "    print 'Number of different words:', len(hist)", 
      "    print 'Total number of words:', total"
     ], 
     "language": "python", 
     "outputs": [], 
     "prompt_number": 17
    }, 
    {
     "cell_type": "code", 
     "collapsed": false, 
     "input": [
      "read_book('book.txt')"
     ], 
     "language": "python", 
     "outputs": [
      {
       "output_type": "stream", 
       "stream": "stdout", 
       "text": [
        "Number of different words: 7783", 
        "Total number of words: 49469"
       ]
      }
     ], 
     "prompt_number": 18
    }, 
    {
     "cell_type": "code", 
     "collapsed": true, 
     "input": [
      "def read_book(text):", 
      "    book = open(text)", 
      "    d = dict()", 
      "    hist = []", 
      "    total = 0", 
      "    for line in book:", 
      "        s = line.split()", 
      "        for word in s:", 
      "            word = word.strip(string.punctuation + string.whitespace + '-')", 
      "            word = word.lower()", 
      "            total += 1", 
      "            d[word] = d.get(word, 0) + 1", 
      "    for key in d:", 
      "        hist.append((d[key], key))", 
      "    hist.sort(reverse = True)", 
      "    print 'Number of different words:', len(hist)", 
      "    print 'Total number of words:', total"
     ], 
     "language": "python", 
     "outputs": [], 
     "prompt_number": 27
    }, 
    {
     "cell_type": "code", 
     "collapsed": false, 
     "input": [
      "read_book(text)"
     ], 
     "language": "python", 
     "outputs": [
      {
       "ename": "TypeError", 
       "evalue": "coercing to Unicode: need string or buffer, function found", 
       "output_type": "pyerr", 
       "traceback": [
        "<span class=\"ansired\">---------------------------------------------------------------------------</span>\n<span class=\"ansired\">TypeError</span>                                 Traceback (most recent call last)", 
        "<span class=\"ansigreen\">/home/ssteeper/PHYS200.1/&lt;ipython-input-28-128cecde78e8&gt;</span> in <span class=\"ansicyan\">&lt;module&gt;</span><span class=\"ansiblue\">()</span>\n<span class=\"ansigreen\">----&gt; 1</span><span class=\"ansiyellow\"> </span>read_book<span class=\"ansiyellow\">(</span>text<span class=\"ansiyellow\">)</span><span class=\"ansiyellow\"></span>\n", 
        "<span class=\"ansigreen\">/home/ssteeper/PHYS200.1/&lt;ipython-input-27-cfb8593b0248&gt;</span> in <span class=\"ansicyan\">read_book</span><span class=\"ansiblue\">(text)</span>\n<span class=\"ansigreen\">      1</span> <span class=\"ansigreen\">def</span> read_book<span class=\"ansiyellow\">(</span>text<span class=\"ansiyellow\">)</span><span class=\"ansiyellow\">:</span><span class=\"ansiyellow\"></span>\n<span class=\"ansigreen\">----&gt; 2</span><span class=\"ansiyellow\">     </span>book <span class=\"ansiyellow\">=</span> open<span class=\"ansiyellow\">(</span>text<span class=\"ansiyellow\">)</span><span class=\"ansiyellow\"></span>\n<span class=\"ansigreen\">      3</span>     d <span class=\"ansiyellow\">=</span> dict<span class=\"ansiyellow\">(</span><span class=\"ansiyellow\">)</span><span class=\"ansiyellow\"></span>\n<span class=\"ansigreen\">      4</span>     hist <span class=\"ansiyellow\">=</span> <span class=\"ansiyellow\">[</span><span class=\"ansiyellow\">]</span><span class=\"ansiyellow\"></span>\n<span class=\"ansigreen\">      5</span>     total <span class=\"ansiyellow\">=</span> <span class=\"ansicyan\">0</span><span class=\"ansiyellow\"></span>\n", 
        "<span class=\"ansired\">TypeError</span>: coercing to Unicode: need string or buffer, function found"
       ]
      }
     ], 
     "prompt_number": 28
    }, 
    {
     "cell_type": "code", 
     "collapsed": false, 
     "input": [
      "read_book('book.txt')"
     ], 
     "language": "python", 
     "outputs": [
      {
       "output_type": "stream", 
       "stream": "stdout", 
       "text": [
        "Number of different words: 7783", 
        "Total number of words: 49469"
       ]
      }
     ], 
     "prompt_number": 29
    }, 
    {
     "cell_type": "code", 
     "collapsed": true, 
     "input": [], 
     "language": "python", 
     "outputs": [], 
     "prompt_number": "&nbsp;"
    }
   ]
  }
 ]
}